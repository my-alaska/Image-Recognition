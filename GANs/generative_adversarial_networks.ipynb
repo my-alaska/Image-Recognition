{
 "cells": [
  {
   "cell_type": "code",
   "execution_count": 1,
   "id": "initial_id",
   "metadata": {
    "collapsed": true,
    "ExecuteTime": {
     "end_time": "2023-10-20T21:46:41.507503700Z",
     "start_time": "2023-10-20T21:46:40.069987400Z"
    }
   },
   "outputs": [],
   "source": [
    "import torch as torch\n",
    "from torch import nn\n",
    "import torchvision.datasets as dset\n",
    "import torchvision.transforms as transforms\n",
    "import matplotlib.pyplot as plt\n",
    "import matplotlib as matplotlib"
   ]
  },
  {
   "cell_type": "code",
   "execution_count": 2,
   "outputs": [
    {
     "data": {
      "text/plain": "<matplotlib.colors.Normalize at 0x2a4fc77f7f0>"
     },
     "execution_count": 2,
     "metadata": {},
     "output_type": "execute_result"
    }
   ],
   "source": [
    "matplotlib.colors.Normalize(vmin=-1, vmax=1, clip=False)"
   ],
   "metadata": {
    "collapsed": false,
    "ExecuteTime": {
     "end_time": "2023-10-20T21:46:41.528406400Z",
     "start_time": "2023-10-20T21:46:41.510465400Z"
    }
   },
   "id": "d45ee310481d9578"
  },
  {
   "cell_type": "code",
   "execution_count": 3,
   "outputs": [
    {
     "name": "stdout",
     "output_type": "stream",
     "text": [
      "NVIDIA GeForce RTX 3090\n"
     ]
    }
   ],
   "source": [
    "if torch.cuda.is_available():\n",
    "    cuda_id = torch.cuda.current_device()\n",
    "    device_name = torch.cuda.get_device_name(cuda_id)\n",
    "    print(device_name)\n",
    "    device = \"cuda:0\"\n",
    "else:\n",
    "    device = \"cpu\""
   ],
   "metadata": {
    "collapsed": false,
    "ExecuteTime": {
     "end_time": "2023-10-20T21:46:41.572297800Z",
     "start_time": "2023-10-20T21:46:41.524419600Z"
    }
   },
   "id": "228b229f364850cc"
  },
  {
   "cell_type": "code",
   "execution_count": 4,
   "outputs": [],
   "source": [
    "# torch.manual_seed(42)"
   ],
   "metadata": {
    "collapsed": false,
    "ExecuteTime": {
     "end_time": "2023-10-20T21:46:41.615155Z",
     "start_time": "2023-10-20T21:46:41.570304500Z"
    }
   },
   "id": "e6667e0fc1ad9596"
  },
  {
   "cell_type": "code",
   "execution_count": 5,
   "outputs": [],
   "source": [
    "class Discriminator(nn.Module):\n",
    "    def __init__(self):\n",
    "        super(Discriminator, self).__init__()\n",
    "        self.network = nn.Sequential(\n",
    "            nn.Conv2d(3, 32, 4, 2, 1, bias=False),\n",
    "            nn.BatchNorm2d(32),\n",
    "            nn.LeakyReLU(0.2, inplace=True),\n",
    "            nn.Conv2d(32, 64, 4, 2, 1, bias=False),\n",
    "            nn.BatchNorm2d(64),\n",
    "            nn.LeakyReLU(0.2, inplace=True),\n",
    "            nn.Conv2d(64, 64, 4, 2, 1, bias=False),\n",
    "            nn.BatchNorm2d(64),\n",
    "            nn.LeakyReLU(0.2, inplace=True),\n",
    "            nn.Flatten(),\n",
    "            nn.Dropout(0.2),\n",
    "            nn.Linear(1024, 1),\n",
    "            nn.Sigmoid(),\n",
    "        )\n",
    "\n",
    "    def forward(self, img):\n",
    "        return self.network(img)"
   ],
   "metadata": {
    "collapsed": false,
    "ExecuteTime": {
     "end_time": "2023-10-20T21:46:41.626119400Z",
     "start_time": "2023-10-20T21:46:41.587248600Z"
    }
   },
   "id": "605d15e4ec16b7cb"
  },
  {
   "cell_type": "code",
   "execution_count": 6,
   "outputs": [],
   "source": [
    "class Reshape(nn.Module):\n",
    "    def __init__(self, shape):\n",
    "        super(Reshape, self).__init__()\n",
    "        self.shape = shape\n",
    "\n",
    "    def forward(self, input):\n",
    "        return torch.reshape(input, self.shape)\n",
    "\n",
    "\n",
    "class Generator(nn.Module):\n",
    "    def __init__(self):\n",
    "        super(Generator, self).__init__()\n",
    "        self.network = nn.Sequential(\n",
    "            nn.Linear(64, 1024),\n",
    "            # why NCHW :(\n",
    "            Reshape((-1, 64, 4, 4)),\n",
    "            nn.ConvTranspose2d(64, 64, 4, 2, 1, bias=False),\n",
    "            nn.LeakyReLU(0.2, inplace=True),\n",
    "            nn.ConvTranspose2d(64, 128, 4, 2, 1, bias=False),\n",
    "            nn.LeakyReLU(0.2, inplace=True),\n",
    "            nn.ConvTranspose2d(128, 256, 4, 2, 1, bias=False),\n",
    "            nn.LeakyReLU(0.2, inplace=True),\n",
    "            nn.Conv2d(256, 3, 5, 1, 2, bias=False),\n",
    "            nn.Tanh(),\n",
    "        )\n",
    "\n",
    "    def forward(self, img):\n",
    "        return self.network(img)"
   ],
   "metadata": {
    "collapsed": false,
    "ExecuteTime": {
     "end_time": "2023-10-20T21:46:41.627115500Z",
     "start_time": "2023-10-20T21:46:41.601202400Z"
    }
   },
   "id": "d76cb63256264c9c"
  },
  {
   "cell_type": "code",
   "execution_count": 7,
   "outputs": [],
   "source": [
    "# return a vector of n samples from N(0,1) distribution\n",
    "get_normal = lambda n: torch.normal(torch.zeros(n), 1)\n",
    "normal_vector = get_normal(64)"
   ],
   "metadata": {
    "collapsed": false,
    "ExecuteTime": {
     "end_time": "2023-10-20T21:46:41.640072800Z",
     "start_time": "2023-10-20T21:46:41.618146500Z"
    }
   },
   "id": "dfb2223e31a38c83"
  },
  {
   "cell_type": "code",
   "execution_count": 8,
   "outputs": [
    {
     "data": {
      "text/plain": "torch.Size([1, 3, 32, 32])"
     },
     "execution_count": 8,
     "metadata": {},
     "output_type": "execute_result"
    }
   ],
   "source": [
    "gen = Generator()\n",
    "forwarded_random_image = gen.forward(normal_vector)\n",
    "forwarded_random_image.shape"
   ],
   "metadata": {
    "collapsed": false,
    "ExecuteTime": {
     "end_time": "2023-10-20T21:46:41.678993500Z",
     "start_time": "2023-10-20T21:46:41.633096800Z"
    }
   },
   "id": "d144337cc5d233ff"
  },
  {
   "cell_type": "code",
   "execution_count": 9,
   "outputs": [],
   "source": [
    "def scale_and_display(image):\n",
    "    plt.imshow((image.squeeze().permute(1, 2, 0).squeeze().detach().numpy() + 1) / 2)"
   ],
   "metadata": {
    "collapsed": false,
    "ExecuteTime": {
     "end_time": "2023-10-20T21:46:41.689957Z",
     "start_time": "2023-10-20T21:46:41.649044200Z"
    }
   },
   "id": "6e6244a0336ff6d3"
  },
  {
   "cell_type": "code",
   "execution_count": 10,
   "outputs": [
    {
     "data": {
      "text/plain": "<Figure size 640x480 with 1 Axes>",
      "image/png": "[encoded data removed]"
     },
     "metadata": {},
     "output_type": "display_data"
    }
   ],
   "source": [
    "scale_and_display(forwarded_random_image)"
   ],
   "metadata": {
    "collapsed": false,
    "ExecuteTime": {
     "end_time": "2023-10-20T21:46:41.751716900Z",
     "start_time": "2023-10-20T21:46:41.665039900Z"
    }
   },
   "id": "8a1008a9f1ca9b8e"
  },
  {
   "cell_type": "code",
   "execution_count": 11,
   "outputs": [
    {
     "data": {
      "text/plain": "<matplotlib.image.AxesImage at 0x2a486070dc0>"
     },
     "execution_count": 11,
     "metadata": {},
     "output_type": "execute_result"
    },
    {
     "data": {
      "text/plain": "<Figure size 640x480 with 1 Axes>",
      "image/png": "[encoded data removed]"
     },
     "metadata": {},
     "output_type": "display_data"
    }
   ],
   "source": [
    "img = forwarded_random_image.permute(0, 2, 3, 1).squeeze().detach().numpy()\n",
    "maximum = img.max()\n",
    "minimum = img.min()\n",
    "scaled_image = (img - minimum) / (maximum - minimum)\n",
    "plt.imshow(scaled_image)"
   ],
   "metadata": {
    "collapsed": false,
    "ExecuteTime": {
     "end_time": "2023-10-20T21:46:41.824046900Z",
     "start_time": "2023-10-20T21:46:41.744771Z"
    }
   },
   "id": "2031c46bfcbd5545"
  },
  {
   "cell_type": "code",
   "execution_count": 12,
   "outputs": [
    {
     "data": {
      "text/plain": "tensor([[0.4988]], grad_fn=<SigmoidBackward0>)"
     },
     "execution_count": 12,
     "metadata": {},
     "output_type": "execute_result"
    }
   ],
   "source": [
    "# Let's ensure that the Discriminator doesn't throw any obvious errors\n",
    "dis = Discriminator()\n",
    "dis.forward(forwarded_random_image)"
   ],
   "metadata": {
    "collapsed": false,
    "ExecuteTime": {
     "end_time": "2023-10-20T21:46:41.842000400Z",
     "start_time": "2023-10-20T21:46:41.821111800Z"
    }
   },
   "id": "ffd7e82c43e408e7"
  },
  {
   "cell_type": "code",
   "execution_count": 13,
   "outputs": [],
   "source": [
    "def lambda_scaling(tensor):\n",
    "    return tensor * 2 - 1"
   ],
   "metadata": {
    "collapsed": false,
    "ExecuteTime": {
     "end_time": "2023-10-20T21:46:41.882898800Z",
     "start_time": "2023-10-20T21:46:41.837003800Z"
    }
   },
   "id": "d24dcc59d7bd04ab"
  },
  {
   "cell_type": "code",
   "execution_count": 14,
   "outputs": [],
   "source": [
    "loaded_data = dset.ImageFolder(\n",
    "    root=\".\",\n",
    "    transform=transforms.Compose(\n",
    "        [\n",
    "            transforms.Resize(32),\n",
    "            transforms.CenterCrop(32),\n",
    "            transforms.ToTensor(),\n",
    "            transforms.Lambda(lambda_scaling),\n",
    "        ]\n",
    "    ),\n",
    ")"
   ],
   "metadata": {
    "collapsed": false,
    "ExecuteTime": {
     "end_time": "2023-10-20T21:46:41.894859500Z",
     "start_time": "2023-10-20T21:46:41.854991900Z"
    }
   },
   "id": "51e3277faf08ed13"
  },
  {
   "cell_type": "code",
   "execution_count": 15,
   "outputs": [
    {
     "data": {
      "text/plain": "torch.Size([975, 3, 32, 32])"
     },
     "execution_count": 15,
     "metadata": {},
     "output_type": "execute_result"
    }
   ],
   "source": [
    "data = torch.stack([element[0] for element in loaded_data])\n",
    "data.shape"
   ],
   "metadata": {
    "collapsed": false,
    "ExecuteTime": {
     "end_time": "2023-10-20T21:46:42.950024400Z",
     "start_time": "2023-10-20T21:46:41.868945500Z"
    }
   },
   "id": "5f59f8354b157a3e"
  },
  {
   "cell_type": "code",
   "execution_count": 16,
   "outputs": [
    {
     "data": {
      "text/plain": "<Figure size 640x480 with 1 Axes>",
      "image/png": "[encoded data removed]"
     },
     "metadata": {},
     "output_type": "display_data"
    }
   ],
   "source": [
    "scale_and_display(data[2])"
   ],
   "metadata": {
    "collapsed": false,
    "ExecuteTime": {
     "end_time": "2023-10-20T21:46:43.023124200Z",
     "start_time": "2023-10-20T21:46:42.947035100Z"
    }
   },
   "id": "36dbaddb06161d5b"
  },
  {
   "cell_type": "code",
   "execution_count": 17,
   "outputs": [
    {
     "data": {
      "text/plain": "torch.Size([3, 32, 32])"
     },
     "execution_count": 17,
     "metadata": {},
     "output_type": "execute_result"
    }
   ],
   "source": [
    "data[0].shape"
   ],
   "metadata": {
    "collapsed": false,
    "ExecuteTime": {
     "end_time": "2023-10-20T21:46:43.065954100Z",
     "start_time": "2023-10-20T21:46:43.024099200Z"
    }
   },
   "id": "b920f07893acf134"
  },
  {
   "cell_type": "code",
   "execution_count": 18,
   "outputs": [],
   "source": [
    "class NonstandardModel(nn.Module):\n",
    "    def __init__(self):\n",
    "        super(NonstandardModel, self).__init__()\n",
    "        self.network = nn.Sequential(\n",
    "            nn.Linear(10, 128),\n",
    "            nn.Dropout(0.25),\n",
    "            nn.ReLU(True),\n",
    "            nn.Linear(128, 128),\n",
    "            nn.Dropout(0.25),\n",
    "            nn.ReLU(True),\n",
    "            nn.Linear(128, 1),\n",
    "            nn.Sigmoid(),\n",
    "        )\n",
    "\n",
    "    def forward(self, img):\n",
    "        return self.network(img)"
   ],
   "metadata": {
    "collapsed": false,
    "ExecuteTime": {
     "end_time": "2023-10-20T21:46:43.085366Z",
     "start_time": "2023-10-20T21:46:43.040006600Z"
    }
   },
   "id": "14364bbd1d6c7808"
  },
  {
   "cell_type": "code",
   "execution_count": 19,
   "outputs": [],
   "source": [
    "my_model = NonstandardModel()\n",
    "for i, param in enumerate(my_model.parameters()):\n",
    "    if not i in {0, 3}:  # 0 and 3 correspond to the first 2 fully connected layers\n",
    "        param.requires_grad = False"
   ],
   "metadata": {
    "collapsed": false,
    "ExecuteTime": {
     "end_time": "2023-10-20T21:46:43.096374200Z",
     "start_time": "2023-10-20T21:46:43.055987Z"
    }
   },
   "id": "f4c2bdffa626a931"
  },
  {
   "cell_type": "code",
   "execution_count": 20,
   "outputs": [],
   "source": [
    "# copy model parameters to compare them at the end\n",
    "reference_list = []\n",
    "for p in my_model.parameters():\n",
    "    reference_list.append(torch.clone(p))"
   ],
   "metadata": {
    "collapsed": false,
    "ExecuteTime": {
     "end_time": "2023-10-20T21:46:43.096374200Z",
     "start_time": "2023-10-20T21:46:43.071282700Z"
    }
   },
   "id": "d452399384bcf36"
  },
  {
   "cell_type": "code",
   "execution_count": 21,
   "outputs": [
    {
     "name": "stdout",
     "output_type": "stream",
     "text": [
      "tensor(-2.9453, grad_fn=<NegBackward0>)\n",
      "tensor(-2.9765, grad_fn=<NegBackward0>)\n",
      "tensor(-3.0147, grad_fn=<NegBackward0>)\n",
      "tensor(-3.0314, grad_fn=<NegBackward0>)\n",
      "tensor(-3.0838, grad_fn=<NegBackward0>)\n",
      "tensor(-3.0451, grad_fn=<NegBackward0>)\n",
      "tensor(-3.1115, grad_fn=<NegBackward0>)\n",
      "tensor(-3.1603, grad_fn=<NegBackward0>)\n",
      "tensor(-3.1492, grad_fn=<NegBackward0>)\n",
      "tensor(-3.1686, grad_fn=<NegBackward0>)\n"
     ]
    }
   ],
   "source": [
    "batch = torch.stack([get_normal(10) for _ in range(10)])\n",
    "optimizer = torch.optim.SGD(\n",
    "    my_model.parameters(), lr=0.001, momentum=0.9, nesterov=True\n",
    ")\n",
    "for epoch in range(1000):\n",
    "    y_pred = my_model(batch)\n",
    "    loss = -torch.log(42 - 42 * y_pred.mean())\n",
    "    optimizer.zero_grad()\n",
    "    loss.backward()\n",
    "    optimizer.step()\n",
    "    if epoch % 100 == 0:\n",
    "        print(loss)"
   ],
   "metadata": {
    "collapsed": false,
    "ExecuteTime": {
     "end_time": "2023-10-20T21:46:43.609989800Z",
     "start_time": "2023-10-20T21:46:43.086419500Z"
    }
   },
   "id": "f5c30e0cb8258c69"
  },
  {
   "cell_type": "code",
   "execution_count": 22,
   "outputs": [
    {
     "name": "stdout",
     "output_type": "stream",
     "text": [
      "tensor(0.4945, grad_fn=<SumBackward0>)\n",
      "tensor(0.)\n",
      "tensor(0.)\n",
      "tensor(0.7894, grad_fn=<SumBackward0>)\n",
      "tensor(0.)\n",
      "tensor(0.)\n"
     ]
    }
   ],
   "source": [
    "result_list = []\n",
    "for p in my_model.parameters():\n",
    "    result_list.append(p)\n",
    "\n",
    "for ref, res in zip(reference_list, result_list):\n",
    "    print((ref - res).sum())"
   ],
   "metadata": {
    "collapsed": false,
    "ExecuteTime": {
     "end_time": "2023-10-20T21:46:43.609989800Z",
     "start_time": "2023-10-20T21:46:43.594861700Z"
    }
   },
   "id": "80d0f7ae6fceb80e"
  },
  {
   "cell_type": "code",
   "execution_count": 22,
   "outputs": [],
   "source": [],
   "metadata": {
    "collapsed": false,
    "ExecuteTime": {
     "end_time": "2023-10-20T21:46:43.626541600Z",
     "start_time": "2023-10-20T21:46:43.608993200Z"
    }
   },
   "id": "a494526848282a3e"
  }
 ],
 "metadata": {
  "kernelspec": {
   "display_name": "Python 3",
   "language": "python",
   "name": "python3"
  },
  "language_info": {
   "codemirror_mode": {
    "name": "ipython",
    "version": 2
   },
   "file_extension": ".py",
   "mimetype": "text/x-python",
   "name": "python",
   "nbconvert_exporter": "python",
   "pygments_lexer": "ipython2",
   "version": "2.7.6"
  }
 },
 "nbformat": 4,
 "nbformat_minor": 5
}
