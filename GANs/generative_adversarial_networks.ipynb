{
 "cells": [
  {
   "cell_type": "code",
   "execution_count": 54,
   "id": "initial_id",
   "metadata": {
    "collapsed": true,
    "ExecuteTime": {
     "end_time": "2023-10-21T19:14:36.463901Z",
     "start_time": "2023-10-21T19:14:36.440900Z"
    }
   },
   "outputs": [],
   "source": [
    "import torch as torch\n",
    "from torch import nn\n",
    "import torchvision.datasets as dset\n",
    "import torchvision.transforms as transforms\n",
    "import matplotlib.pyplot as plt\n",
    "import matplotlib as matplotlib"
   ]
  },
  {
   "cell_type": "code",
   "execution_count": 55,
   "outputs": [
    {
     "data": {
      "text/plain": "<matplotlib.colors.Normalize at 0x1f6e9c0ba00>"
     },
     "execution_count": 55,
     "metadata": {},
     "output_type": "execute_result"
    }
   ],
   "source": [
    "matplotlib.colors.Normalize(vmin=-1, vmax=1, clip=False)"
   ],
   "metadata": {
    "collapsed": false,
    "ExecuteTime": {
     "end_time": "2023-10-21T19:14:36.592116Z",
     "start_time": "2023-10-21T19:14:36.445901900Z"
    }
   },
   "id": "d45ee310481d9578"
  },
  {
   "cell_type": "code",
   "execution_count": 56,
   "outputs": [
    {
     "name": "stdout",
     "output_type": "stream",
     "text": [
      "NVIDIA GeForce RTX 3090\n"
     ]
    }
   ],
   "source": [
    "if torch.cuda.is_available():\n",
    "    cuda_id = torch.cuda.current_device()\n",
    "    device_name = torch.cuda.get_device_name(cuda_id)\n",
    "    device = \"cuda:0\"\n",
    "else:\n",
    "    device = \"cpu\""
   ],
   "metadata": {
    "collapsed": false,
    "ExecuteTime": {
     "end_time": "2023-10-21T19:14:36.594115500Z",
     "start_time": "2023-10-21T19:14:36.461901900Z"
    }
   },
   "id": "228b229f364850cc"
  },
  {
   "cell_type": "code",
   "execution_count": 57,
   "outputs": [],
   "source": [
    "# torch.manual_seed(42)"
   ],
   "metadata": {
    "collapsed": false,
    "ExecuteTime": {
     "end_time": "2023-10-21T19:14:36.594115500Z",
     "start_time": "2023-10-21T19:14:36.478900800Z"
    }
   },
   "id": "e6667e0fc1ad9596"
  },
  {
   "cell_type": "markdown",
   "source": [
    "## Creating Discriminator and Generator model classes"
   ],
   "metadata": {
    "collapsed": false
   },
   "id": "3cda7a783cf3bac4"
  },
  {
   "cell_type": "code",
   "execution_count": 58,
   "outputs": [],
   "source": [
    "class Discriminator(nn.Module):\n",
    "    def __init__(self):\n",
    "        super(Discriminator, self).__init__()\n",
    "        self.network = nn.Sequential(\n",
    "            nn.Conv2d(3, 32, 4, 2, 1, bias=False),\n",
    "            nn.BatchNorm2d(32),\n",
    "            nn.LeakyReLU(0.2, inplace=True),\n",
    "            nn.Conv2d(32, 64, 4, 2, 1, bias=False),\n",
    "            nn.BatchNorm2d(64),\n",
    "            nn.LeakyReLU(0.2, inplace=True),\n",
    "            nn.Conv2d(64, 64, 4, 2, 1, bias=False),\n",
    "            nn.BatchNorm2d(64),\n",
    "            nn.LeakyReLU(0.2, inplace=True),\n",
    "            nn.Flatten(),\n",
    "            nn.Dropout(0.2),\n",
    "            nn.Linear(1024, 1),\n",
    "            nn.Sigmoid(),\n",
    "        )\n",
    "\n",
    "    def forward(self, img):\n",
    "        return self.network(img)"
   ],
   "metadata": {
    "collapsed": false,
    "ExecuteTime": {
     "end_time": "2023-10-21T19:14:36.595115600Z",
     "start_time": "2023-10-21T19:14:36.494900500Z"
    }
   },
   "id": "605d15e4ec16b7cb"
  },
  {
   "cell_type": "code",
   "execution_count": 59,
   "outputs": [],
   "source": [
    "class Reshape(nn.Module):\n",
    "    def __init__(self, shape):\n",
    "        super(Reshape, self).__init__()\n",
    "        self.shape = shape\n",
    "\n",
    "    def forward(self, input):\n",
    "        return torch.reshape(input, self.shape)\n",
    "\n",
    "\n",
    "class Generator(nn.Module):\n",
    "    def __init__(self):\n",
    "        super(Generator, self).__init__()\n",
    "        self.network = nn.Sequential(\n",
    "            nn.Linear(64, 1024),\n",
    "            # why NCHW :(\n",
    "            Reshape((-1, 64, 4, 4)),\n",
    "            nn.ConvTranspose2d(64, 64, 4, 2, 1, bias=False),\n",
    "            nn.LeakyReLU(0.2, inplace=True),\n",
    "            nn.ConvTranspose2d(64, 128, 4, 2, 1, bias=False),\n",
    "            nn.LeakyReLU(0.2, inplace=True),\n",
    "            nn.ConvTranspose2d(128, 256, 4, 2, 1, bias=False),\n",
    "            nn.LeakyReLU(0.2, inplace=True),\n",
    "            nn.Conv2d(256, 3, 5, 1, 2, bias=False),\n",
    "            nn.Tanh(),\n",
    "        )\n",
    "\n",
    "    def forward(self, img):\n",
    "        return self.network(img)"
   ],
   "metadata": {
    "collapsed": false,
    "ExecuteTime": {
     "end_time": "2023-10-21T19:14:36.595115600Z",
     "start_time": "2023-10-21T19:14:36.510900200Z"
    }
   },
   "id": "d76cb63256264c9c"
  },
  {
   "cell_type": "code",
   "execution_count": 60,
   "outputs": [],
   "source": [
    "# return a vector of n samples from N(0,1) distribution\n",
    "get_normal = lambda n: torch.normal(torch.zeros(n), 1).to(device)\n",
    "normal_vector = get_normal(64)"
   ],
   "metadata": {
    "collapsed": false,
    "ExecuteTime": {
     "end_time": "2023-10-21T19:14:36.595115600Z",
     "start_time": "2023-10-21T19:14:36.525408700Z"
    }
   },
   "id": "dfb2223e31a38c83"
  },
  {
   "cell_type": "code",
   "execution_count": 61,
   "outputs": [
    {
     "data": {
      "text/plain": "torch.Size([1, 3, 32, 32])"
     },
     "execution_count": 61,
     "metadata": {},
     "output_type": "execute_result"
    }
   ],
   "source": [
    "generator = Generator().to(device)\n",
    "forwarded_random_image = generator.forward(normal_vector)\n",
    "forwarded_random_image.shape"
   ],
   "metadata": {
    "collapsed": false,
    "ExecuteTime": {
     "end_time": "2023-10-21T19:14:36.595115600Z",
     "start_time": "2023-10-21T19:14:36.555408100Z"
    }
   },
   "id": "d144337cc5d233ff"
  },
  {
   "cell_type": "code",
   "execution_count": 62,
   "outputs": [],
   "source": [
    "def scale_and_display(image):\n",
    "    plt.imshow((image.squeeze().permute(1, 2, 0).squeeze().detach().numpy() + 1) / 2)"
   ],
   "metadata": {
    "collapsed": false,
    "ExecuteTime": {
     "end_time": "2023-10-21T19:14:36.595115600Z",
     "start_time": "2023-10-21T19:14:36.572407700Z"
    }
   },
   "id": "6e6244a0336ff6d3"
  },
  {
   "cell_type": "code",
   "execution_count": 63,
   "outputs": [
    {
     "data": {
      "text/plain": "<Figure size 640x480 with 1 Axes>",
      "image/png": "[encoded data removed]"
     },
     "metadata": {},
     "output_type": "display_data"
    }
   ],
   "source": [
    "scale_and_display(torch.clone(forwarded_random_image).cpu())"
   ],
   "metadata": {
    "collapsed": false,
    "ExecuteTime": {
     "end_time": "2023-10-21T19:14:36.651839800Z",
     "start_time": "2023-10-21T19:14:36.588115500Z"
    }
   },
   "id": "8a1008a9f1ca9b8e"
  },
  {
   "cell_type": "code",
   "execution_count": 64,
   "outputs": [
    {
     "data": {
      "text/plain": "<matplotlib.image.AxesImage at 0x1f6eb104b80>"
     },
     "execution_count": 64,
     "metadata": {},
     "output_type": "execute_result"
    },
    {
     "data": {
      "text/plain": "<Figure size 640x480 with 1 Axes>",
      "image/png": "[encoded data removed]"
     },
     "metadata": {},
     "output_type": "display_data"
    }
   ],
   "source": [
    "img = forwarded_random_image.cpu().permute(0, 2, 3, 1).squeeze().detach().numpy()\n",
    "maximum = img.max()\n",
    "minimum = img.min()\n",
    "scaled_image = (img - minimum) / (maximum - minimum)\n",
    "plt.imshow(scaled_image)"
   ],
   "metadata": {
    "collapsed": false,
    "ExecuteTime": {
     "end_time": "2023-10-21T19:14:36.759377Z",
     "start_time": "2023-10-21T19:14:36.652839300Z"
    }
   },
   "id": "2031c46bfcbd5545"
  },
  {
   "cell_type": "code",
   "execution_count": 65,
   "outputs": [
    {
     "data": {
      "text/plain": "tensor([[0.5855]], device='cuda:0', grad_fn=<SigmoidBackward0>)"
     },
     "execution_count": 65,
     "metadata": {},
     "output_type": "execute_result"
    }
   ],
   "source": [
    "# Let's ensure that the Discriminator doesn't throw any obvious errors\n",
    "discriminator = Discriminator().to(device)\n",
    "discriminator.forward(forwarded_random_image)"
   ],
   "metadata": {
    "collapsed": false,
    "ExecuteTime": {
     "end_time": "2023-10-21T19:14:36.866875800Z",
     "start_time": "2023-10-21T19:14:36.716839100Z"
    }
   },
   "id": "ffd7e82c43e408e7"
  },
  {
   "cell_type": "markdown",
   "source": [
    "## Loading the data"
   ],
   "metadata": {
    "collapsed": false
   },
   "id": "6d8882fe64c3f12f"
  },
  {
   "cell_type": "code",
   "execution_count": 66,
   "outputs": [],
   "source": [
    "def lambda_scaling(tensor):\n",
    "    return tensor * 2 - 1"
   ],
   "metadata": {
    "collapsed": false,
    "ExecuteTime": {
     "end_time": "2023-10-21T19:14:36.921855Z",
     "start_time": "2023-10-21T19:14:36.861875500Z"
    }
   },
   "id": "d24dcc59d7bd04ab"
  },
  {
   "cell_type": "code",
   "execution_count": 67,
   "outputs": [],
   "source": [
    "data_dir = dset.ImageFolder(\n",
    "    root=\".\",\n",
    "    transform=transforms.Compose(\n",
    "        [\n",
    "            transforms.Resize(32),\n",
    "            transforms.CenterCrop(32),\n",
    "            transforms.ToTensor(),\n",
    "            transforms.Lambda(lambda_scaling),\n",
    "        ]\n",
    "    ),\n",
    ")"
   ],
   "metadata": {
    "collapsed": false,
    "ExecuteTime": {
     "end_time": "2023-10-21T19:14:36.936855100Z",
     "start_time": "2023-10-21T19:14:36.876876500Z"
    }
   },
   "id": "51e3277faf08ed13"
  },
  {
   "cell_type": "code",
   "execution_count": 68,
   "outputs": [
    {
     "data": {
      "text/plain": "torch.Size([975, 3, 32, 32])"
     },
     "execution_count": 68,
     "metadata": {},
     "output_type": "execute_result"
    }
   ],
   "source": [
    "data = torch.stack([element[0] for element in data_dir]).to(device)\n",
    "data.shape"
   ],
   "metadata": {
    "collapsed": false,
    "ExecuteTime": {
     "end_time": "2023-10-21T19:14:38.123537Z",
     "start_time": "2023-10-21T19:14:36.890855Z"
    }
   },
   "id": "5f59f8354b157a3e"
  },
  {
   "cell_type": "code",
   "execution_count": 69,
   "outputs": [
    {
     "data": {
      "text/plain": "<Figure size 640x480 with 1 Axes>",
      "image/png": "[encoded data removed]"
     },
     "metadata": {},
     "output_type": "display_data"
    }
   ],
   "source": [
    "scale_and_display(torch.clone(data[2]).cpu())"
   ],
   "metadata": {
    "collapsed": false,
    "ExecuteTime": {
     "end_time": "2023-10-21T19:14:38.193208500Z",
     "start_time": "2023-10-21T19:14:38.117537100Z"
    }
   },
   "id": "36dbaddb06161d5b"
  },
  {
   "cell_type": "code",
   "execution_count": 70,
   "outputs": [
    {
     "data": {
      "text/plain": "torch.Size([3, 32, 32])"
     },
     "execution_count": 70,
     "metadata": {},
     "output_type": "execute_result"
    }
   ],
   "source": [
    "data[0].shape"
   ],
   "metadata": {
    "collapsed": false,
    "ExecuteTime": {
     "end_time": "2023-10-21T19:14:38.208036700Z",
     "start_time": "2023-10-21T19:14:38.180536800Z"
    }
   },
   "id": "b920f07893acf134"
  },
  {
   "cell_type": "markdown",
   "source": [
    "## Example of training a non-standard model in a loop"
   ],
   "metadata": {
    "collapsed": false
   },
   "id": "875becb6d215ad2f"
  },
  {
   "cell_type": "code",
   "execution_count": 71,
   "outputs": [],
   "source": [
    "class NonstandardModel(nn.Module):\n",
    "    def __init__(self):\n",
    "        super(NonstandardModel, self).__init__()\n",
    "        self.network = nn.Sequential(\n",
    "            nn.Linear(10, 128),\n",
    "            nn.Dropout(0.25),\n",
    "            nn.ReLU(True),\n",
    "            nn.Linear(128, 128),\n",
    "            nn.Dropout(0.25),\n",
    "            nn.ReLU(True),\n",
    "            nn.Linear(128, 1),\n",
    "            nn.Sigmoid(),\n",
    "        )\n",
    "\n",
    "    def forward(self, img):\n",
    "        return self.network(img)"
   ],
   "metadata": {
    "collapsed": false,
    "ExecuteTime": {
     "end_time": "2023-10-21T19:14:38.240481600Z",
     "start_time": "2023-10-21T19:14:38.196210900Z"
    }
   },
   "id": "14364bbd1d6c7808"
  },
  {
   "cell_type": "code",
   "execution_count": 72,
   "outputs": [],
   "source": [
    "my_model = NonstandardModel().to(device)\n",
    "for i, param in enumerate(my_model.parameters()):\n",
    "    if not i in {0, 3}:  # 0 and 3 correspond to the first 2 fully connected layers\n",
    "        param.requires_grad = False"
   ],
   "metadata": {
    "collapsed": false,
    "ExecuteTime": {
     "end_time": "2023-10-21T19:14:38.252482300Z",
     "start_time": "2023-10-21T19:14:38.211036900Z"
    }
   },
   "id": "f4c2bdffa626a931"
  },
  {
   "cell_type": "code",
   "execution_count": 73,
   "outputs": [],
   "source": [
    "# copy model parameters to compare them at the end\n",
    "reference_list = []\n",
    "for p in my_model.parameters():\n",
    "    reference_list.append(torch.clone(p))"
   ],
   "metadata": {
    "collapsed": false,
    "ExecuteTime": {
     "end_time": "2023-10-21T19:14:38.253482200Z",
     "start_time": "2023-10-21T19:14:38.227182900Z"
    }
   },
   "id": "d452399384bcf36"
  },
  {
   "cell_type": "code",
   "execution_count": 74,
   "outputs": [
    {
     "name": "stdout",
     "output_type": "stream",
     "text": [
      "tensor(-3.0242, device='cuda:0', grad_fn=<NegBackward0>)\n",
      "tensor(-3.0608, device='cuda:0', grad_fn=<NegBackward0>)\n",
      "tensor(-3.0849, device='cuda:0', grad_fn=<NegBackward0>)\n",
      "tensor(-3.1261, device='cuda:0', grad_fn=<NegBackward0>)\n",
      "tensor(-3.1494, device='cuda:0', grad_fn=<NegBackward0>)\n",
      "tensor(-3.1540, device='cuda:0', grad_fn=<NegBackward0>)\n",
      "tensor(-3.1854, device='cuda:0', grad_fn=<NegBackward0>)\n",
      "tensor(-3.2067, device='cuda:0', grad_fn=<NegBackward0>)\n",
      "tensor(-3.2019, device='cuda:0', grad_fn=<NegBackward0>)\n",
      "tensor(-3.2488, device='cuda:0', grad_fn=<NegBackward0>)\n"
     ]
    }
   ],
   "source": [
    "batch = torch.stack([get_normal(10) for _ in range(10)])\n",
    "optimizer = torch.optim.SGD(\n",
    "    my_model.parameters(), lr=0.001, momentum=0.9, nesterov=True\n",
    ")\n",
    "for epoch in range(1000):\n",
    "    y_pred = my_model(batch)\n",
    "    loss = -torch.log(42 - 42 * y_pred.mean())\n",
    "    optimizer.zero_grad()\n",
    "    loss.backward()\n",
    "    optimizer.step()\n",
    "    if epoch % 100 == 0:\n",
    "        print(loss)"
   ],
   "metadata": {
    "collapsed": false,
    "ExecuteTime": {
     "end_time": "2023-10-21T19:14:38.732959900Z",
     "start_time": "2023-10-21T19:14:38.242483200Z"
    }
   },
   "id": "f5c30e0cb8258c69"
  },
  {
   "cell_type": "code",
   "execution_count": 75,
   "outputs": [
    {
     "name": "stdout",
     "output_type": "stream",
     "text": [
      "tensor(-0.5724, device='cuda:0', grad_fn=<SumBackward0>)\n",
      "tensor(0., device='cuda:0')\n",
      "tensor(0., device='cuda:0')\n",
      "tensor(-0.0212, device='cuda:0', grad_fn=<SumBackward0>)\n",
      "tensor(0., device='cuda:0')\n",
      "tensor(0., device='cuda:0')\n"
     ]
    }
   ],
   "source": [
    "result_list = []\n",
    "for p in my_model.parameters():\n",
    "    result_list.append(p)\n",
    "\n",
    "for ref, res in zip(reference_list, result_list):\n",
    "    print((ref - res).sum())"
   ],
   "metadata": {
    "collapsed": false,
    "ExecuteTime": {
     "end_time": "2023-10-21T19:14:38.757959700Z",
     "start_time": "2023-10-21T19:14:38.732959900Z"
    }
   },
   "id": "80d0f7ae6fceb80e"
  },
  {
   "cell_type": "markdown",
   "source": [
    "## The basic idea of discriminator training"
   ],
   "metadata": {
    "collapsed": false
   },
   "id": "11e1689a076e5835"
  },
  {
   "cell_type": "code",
   "execution_count": 76,
   "outputs": [],
   "source": [
    "BATCH_SIZE = 16"
   ],
   "metadata": {
    "collapsed": false,
    "ExecuteTime": {
     "end_time": "2023-10-21T19:14:38.792748900Z",
     "start_time": "2023-10-21T19:14:38.748959700Z"
    }
   },
   "id": "b8310da4f65021ad"
  },
  {
   "cell_type": "code",
   "execution_count": 87,
   "outputs": [],
   "source": [
    "real_batch = data[:BATCH_SIZE]\n",
    "real_labels = torch.zeros(BATCH_SIZE)\n",
    "\n",
    "generated_batch = generator.forward(\n",
    "    torch.stack([get_normal(64) for _ in range(BATCH_SIZE)])\n",
    ")\n",
    "generated_labels = torch.ones(BATCH_SIZE)\n",
    "\n",
    "batch = torch.concat([real_batch, generated_batch])\n",
    "labels = torch.concat([real_labels, generated_labels])\n",
    "labels += torch.rand(2 * BATCH_SIZE) * 0.1 - 0.05\n",
    "labels = labels.clip(min=0, max=1).to(device)\n",
    "labels = labels.reshape((-1, 1))"
   ],
   "metadata": {
    "collapsed": false,
    "ExecuteTime": {
     "end_time": "2023-10-21T19:17:08.426123700Z",
     "start_time": "2023-10-21T19:17:08.352728300Z"
    }
   },
   "id": "7aee52e9073d6737"
  },
  {
   "cell_type": "code",
   "execution_count": 88,
   "outputs": [],
   "source": [
    "discriminator_opt = torch.optim.Adam(discriminator.parameters(), lr=0.00001)\n",
    "loss_function = nn.BCELoss()"
   ],
   "metadata": {
    "collapsed": false,
    "ExecuteTime": {
     "end_time": "2023-10-21T19:17:10.021686900Z",
     "start_time": "2023-10-21T19:17:09.999686Z"
    }
   },
   "id": "a4c1879d07868279"
  },
  {
   "cell_type": "code",
   "execution_count": 89,
   "outputs": [
    {
     "data": {
      "text/plain": "tensor(0.7694, device='cuda:0', grad_fn=<BinaryCrossEntropyBackward0>)"
     },
     "execution_count": 89,
     "metadata": {},
     "output_type": "execute_result"
    }
   ],
   "source": [
    "for epoch in range(1):  # Placeholder loop to copypaste later\n",
    "    y_pred = discriminator(batch)\n",
    "    loss = loss_function(y_pred, labels)\n",
    "\n",
    "    discriminator_opt.zero_grad()\n",
    "    loss.backward()\n",
    "    discriminator_opt.step()\n",
    "\n",
    "loss"
   ],
   "metadata": {
    "collapsed": false,
    "ExecuteTime": {
     "end_time": "2023-10-21T19:17:11.275475500Z",
     "start_time": "2023-10-21T19:17:10.822410800Z"
    }
   },
   "id": "2502c3e58e440c94"
  },
  {
   "cell_type": "markdown",
   "source": [
    "## The basic idea of discriminator training"
   ],
   "metadata": {
    "collapsed": false
   },
   "id": "9577f6d5f1d2b49e"
  },
  {
   "cell_type": "code",
   "execution_count": 90,
   "outputs": [],
   "source": [
    "batch = torch.stack([get_normal(64) for _ in range(BATCH_SIZE)])\n",
    "labels = torch.ones(BATCH_SIZE) + torch.rand(BATCH_SIZE) * 0.1 - 0.05\n",
    "labels = labels.clip(max=1).reshape((-1, 1)).to(device)\n",
    "\n",
    "generator_opt = torch.optim.Adam(generator.parameters(), lr=0.00001)"
   ],
   "metadata": {
    "collapsed": false,
    "ExecuteTime": {
     "end_time": "2023-10-21T19:17:18.806792700Z",
     "start_time": "2023-10-21T19:17:18.792793100Z"
    }
   },
   "id": "44df473123c60e16"
  },
  {
   "cell_type": "code",
   "execution_count": 91,
   "outputs": [
    {
     "data": {
      "text/plain": "tensor(0.6436, device='cuda:0', grad_fn=<BinaryCrossEntropyBackward0>)"
     },
     "execution_count": 91,
     "metadata": {},
     "output_type": "execute_result"
    }
   ],
   "source": [
    "for epoch in range(1):\n",
    "    images = generator(batch)\n",
    "    y_pred = discriminator(images)\n",
    "    loss = loss_function(y_pred, labels)\n",
    "    generator_opt.zero_grad()\n",
    "    loss.backward()\n",
    "    generator_opt.step()\n",
    "\n",
    "loss"
   ],
   "metadata": {
    "collapsed": false,
    "ExecuteTime": {
     "end_time": "2023-10-21T19:17:19.183098800Z",
     "start_time": "2023-10-21T19:17:19.020829300Z"
    }
   },
   "id": "8ad45450f649c0c1"
  },
  {
   "cell_type": "code",
   "execution_count": null,
   "outputs": [],
   "source": [],
   "metadata": {
    "collapsed": false,
    "ExecuteTime": {
     "start_time": "2023-10-21T19:14:38.939255Z"
    }
   },
   "id": "1c3786ff547ceefe"
  }
 ],
 "metadata": {
  "kernelspec": {
   "display_name": "Python 3",
   "language": "python",
   "name": "python3"
  },
  "language_info": {
   "codemirror_mode": {
    "name": "ipython",
    "version": 2
   },
   "file_extension": ".py",
   "mimetype": "text/x-python",
   "name": "python",
   "nbconvert_exporter": "python",
   "pygments_lexer": "ipython2",
   "version": "2.7.6"
  }
 },
 "nbformat": 4,
 "nbformat_minor": 5
}
