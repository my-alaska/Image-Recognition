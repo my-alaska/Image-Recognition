{
 "cells": [
  {
   "cell_type": "code",
   "execution_count": 73,
   "id": "f22d38fc",
   "metadata": {
    "ExecuteTime": {
     "end_time": "2023-10-13T15:49:14.871570800Z",
     "start_time": "2023-10-13T15:49:14.829680600Z"
    }
   },
   "outputs": [],
   "source": [
    "import tensorflow as tf\n",
    "import matplotlib.pyplot as plt\n",
    "import numpy as np"
   ]
  },
  {
   "cell_type": "code",
   "execution_count": 74,
   "id": "61b3a84e",
   "metadata": {
    "ExecuteTime": {
     "end_time": "2023-10-13T15:49:14.999173100Z",
     "start_time": "2023-10-13T15:49:14.842637200Z"
    }
   },
   "outputs": [],
   "source": [
    "digits = tf.keras.datasets.mnist.load_data()"
   ]
  },
  {
   "cell_type": "code",
   "execution_count": 75,
   "id": "dcc0211d",
   "metadata": {
    "ExecuteTime": {
     "end_time": "2023-10-13T15:49:15.013171300Z",
     "start_time": "2023-10-13T15:49:14.999173100Z"
    }
   },
   "outputs": [],
   "source": [
    "digits_a, digits_b = digits"
   ]
  },
  {
   "cell_type": "code",
   "execution_count": 76,
   "id": "336d0e72",
   "metadata": {
    "ExecuteTime": {
     "end_time": "2023-10-13T15:49:15.058949600Z",
     "start_time": "2023-10-13T15:49:15.014167900Z"
    }
   },
   "outputs": [
    {
     "data": {
      "text/plain": "10000"
     },
     "execution_count": 76,
     "metadata": {},
     "output_type": "execute_result"
    }
   ],
   "source": [
    "digits_X, digits_y = digits_b\n",
    "len(digits_X)"
   ]
  },
  {
   "cell_type": "code",
   "execution_count": 77,
   "id": "6dd4d4c1",
   "metadata": {
    "ExecuteTime": {
     "end_time": "2023-10-13T15:49:15.066922800Z",
     "start_time": "2023-10-13T15:49:15.029096600Z"
    }
   },
   "outputs": [],
   "source": [
    "digits_X = np.array(digits_X)\n",
    "digits_y = np.array(digits_y)"
   ]
  },
  {
   "cell_type": "code",
   "execution_count": 78,
   "id": "819afb6a",
   "metadata": {
    "ExecuteTime": {
     "end_time": "2023-10-13T15:49:15.112769800Z",
     "start_time": "2023-10-13T15:49:15.044996300Z"
    }
   },
   "outputs": [
    {
     "data": {
      "text/plain": "<matplotlib.image.AxesImage at 0x1fdcd4d37c0>"
     },
     "execution_count": 78,
     "metadata": {},
     "output_type": "execute_result"
    },
    {
     "data": {
      "text/plain": "<Figure size 640x480 with 1 Axes>",
      "image/png": "[encoded data removed]"
     },
     "metadata": {},
     "output_type": "display_data"
    }
   ],
   "source": [
    "plt.imshow(digits_X[0], cmap=\"gray\")"
   ]
  },
  {
   "cell_type": "code",
   "execution_count": 79,
   "id": "1363469f",
   "metadata": {
    "ExecuteTime": {
     "end_time": "2023-10-13T15:49:15.312158700Z",
     "start_time": "2023-10-13T15:49:15.107786700Z"
    }
   },
   "outputs": [],
   "source": [
    "fashion = tf.keras.datasets.fashion_mnist.load_data()"
   ]
  },
  {
   "cell_type": "code",
   "execution_count": 80,
   "outputs": [],
   "source": [
    "fashion_class_name = [\n",
    "    \"T-shirt/top\",\n",
    "    \"Trouser\",\n",
    "    \"Pullover\",\n",
    "    \"Dress\",\n",
    "    \"Coat\",\n",
    "    \"Sandal\",\n",
    "    \"Shirt\",\n",
    "    \"Sneaker\",\n",
    "    \"Bag\",\n",
    "    \"Ankle boot\",\n",
    "]"
   ],
   "metadata": {
    "collapsed": false,
    "ExecuteTime": {
     "end_time": "2023-10-13T15:49:15.319135600Z",
     "start_time": "2023-10-13T15:49:15.298149300Z"
    }
   },
   "id": "304c479c5189124b"
  },
  {
   "cell_type": "code",
   "execution_count": 81,
   "id": "d2011684",
   "metadata": {
    "ExecuteTime": {
     "end_time": "2023-10-13T15:49:15.330047700Z",
     "start_time": "2023-10-13T15:49:15.315149200Z"
    }
   },
   "outputs": [],
   "source": [
    "fashion_a, fashion_b = fashion"
   ]
  },
  {
   "cell_type": "code",
   "execution_count": 82,
   "id": "92549317",
   "metadata": {
    "ExecuteTime": {
     "end_time": "2023-10-13T15:49:15.374853800Z",
     "start_time": "2023-10-13T15:49:15.330047700Z"
    }
   },
   "outputs": [
    {
     "data": {
      "text/plain": "60000"
     },
     "execution_count": 82,
     "metadata": {},
     "output_type": "execute_result"
    }
   ],
   "source": [
    "fashion_X, fashion_y = fashion_a\n",
    "len(fashion_X)"
   ]
  },
  {
   "cell_type": "code",
   "execution_count": 83,
   "id": "cbe8ff75",
   "metadata": {
    "ExecuteTime": {
     "end_time": "2023-10-13T15:49:15.382827500Z",
     "start_time": "2023-10-13T15:49:15.345518700Z"
    }
   },
   "outputs": [],
   "source": [
    "fashion_X = np.array(fashion_X)\n",
    "fashion_y = np.array(fashion_y)"
   ]
  },
  {
   "cell_type": "code",
   "execution_count": 84,
   "id": "6a8f1812",
   "metadata": {
    "ExecuteTime": {
     "end_time": "2023-10-13T15:49:15.448395100Z",
     "start_time": "2023-10-13T15:49:15.359904Z"
    }
   },
   "outputs": [
    {
     "data": {
      "text/plain": "<matplotlib.image.AxesImage at 0x1fdcd4adab0>"
     },
     "execution_count": 84,
     "metadata": {},
     "output_type": "execute_result"
    },
    {
     "data": {
      "text/plain": "<Figure size 640x480 with 1 Axes>",
      "image/png": "[encoded data removed]"
     },
     "metadata": {},
     "output_type": "display_data"
    }
   ],
   "source": [
    "plt.imshow(fashion_X[0], cmap=\"gray\")"
   ]
  },
  {
   "cell_type": "code",
   "execution_count": 85,
   "id": "0727c0a3",
   "metadata": {
    "ExecuteTime": {
     "end_time": "2023-10-13T15:49:15.448395100Z",
     "start_time": "2023-10-13T15:49:15.424528800Z"
    }
   },
   "outputs": [],
   "source": [
    "np.random.seed(42)\n",
    "idx_L = np.random.randint(0, len(fashion_X), len(fashion_X) * 2)\n",
    "idx_R = np.random.randint(0, len(fashion_X), len(fashion_X) * 2)\n",
    "idx_M = np.random.randint(0, len(digits_X), len(fashion_X) * 2)"
   ]
  },
  {
   "cell_type": "code",
   "execution_count": 86,
   "id": "8f4b5dae",
   "metadata": {
    "ExecuteTime": {
     "end_time": "2023-10-13T15:49:15.517620700Z",
     "start_time": "2023-10-13T15:49:15.441418400Z"
    }
   },
   "outputs": [],
   "source": [
    "L_X, L_y = fashion_X[idx_L], fashion_y[idx_L]\n",
    "M_X, M_y = digits_X[idx_M], digits_y[idx_M]\n",
    "R_X, R_y = fashion_X[idx_R], fashion_y[idx_R]"
   ]
  },
  {
   "cell_type": "code",
   "execution_count": 87,
   "id": "b48420d9",
   "metadata": {
    "ExecuteTime": {
     "end_time": "2023-10-13T15:49:15.706193300Z",
     "start_time": "2023-10-13T15:49:15.517620700Z"
    }
   },
   "outputs": [],
   "source": [
    "from tensorflow.keras.utils import to_categorical\n",
    "\n",
    "X = np.concatenate([L_X, M_X, R_X], axis=2)\n",
    "y = to_categorical(np.stack(L_y * (M_y % 2 == 0) + R_y * (M_y % 2 != 0)))"
   ]
  },
  {
   "cell_type": "code",
   "execution_count": 88,
   "id": "b212cd1f",
   "metadata": {
    "ExecuteTime": {
     "end_time": "2023-10-13T15:49:15.773966400Z",
     "start_time": "2023-10-13T15:49:15.707189800Z"
    }
   },
   "outputs": [
    {
     "data": {
      "text/plain": "<matplotlib.image.AxesImage at 0x1fceee131f0>"
     },
     "execution_count": 88,
     "metadata": {},
     "output_type": "execute_result"
    },
    {
     "data": {
      "text/plain": "<Figure size 640x480 with 1 Axes>",
      "image/png": "[encoded data removed]"
     },
     "metadata": {},
     "output_type": "display_data"
    }
   ],
   "source": [
    "plt.imshow(X[0], cmap=\"gray\")"
   ]
  },
  {
   "cell_type": "code",
   "execution_count": 89,
   "id": "e72b2045",
   "metadata": {
    "ExecuteTime": {
     "end_time": "2023-10-13T15:49:15.878282400Z",
     "start_time": "2023-10-13T15:49:15.770976600Z"
    }
   },
   "outputs": [],
   "source": [
    "from sklearn.model_selection import train_test_split\n",
    "\n",
    "X_train, X_test, y_train, y_test = train_test_split(\n",
    "    X, y, test_size=0.3, random_state=42\n",
    ")\n",
    "X_test, X_valid, y_test, y_valid = train_test_split(\n",
    "    X_test, y_test, test_size=0.5, random_state=42\n",
    ")"
   ]
  },
  {
   "cell_type": "code",
   "execution_count": 90,
   "id": "c0a59a82",
   "metadata": {
    "ExecuteTime": {
     "end_time": "2023-10-13T15:49:15.924681300Z",
     "start_time": "2023-10-13T15:49:15.880283300Z"
    }
   },
   "outputs": [],
   "source": [
    "from tensorflow.keras import layers, models, losses\n",
    "from tensorflow.keras.optimizers import SGD\n",
    "from keras.regularizers import l2\n",
    "\n",
    "model = models.Sequential()\n",
    "model.add(\n",
    "    layers.Conv2D(\n",
    "        32, (3, 3), padding=\"same\", activation=\"relu\", input_shape=(28, 84, 1)\n",
    "    )\n",
    ")\n",
    "model.add(layers.MaxPooling2D((2, 2)))\n",
    "\n",
    "model.add(layers.Conv2D(64, (3, 3), padding=\"same\", activation=\"relu\"))\n",
    "model.add(layers.MaxPooling2D((2, 2)))\n",
    "\n",
    "model.add(layers.Conv2D(64, (3, 3), padding=\"same\", activation=\"relu\"))\n",
    "model.add(layers.MaxPooling2D((2, 2)))\n",
    "\n",
    "model.add(layers.Flatten())\n",
    "model.add(layers.Dense(256, kernel_regularizer=l2(0.01), activation=\"relu\"))\n",
    "model.add(layers.Dropout(0.25))\n",
    "model.add(layers.Dense(256, kernel_regularizer=l2(0.01), activation=\"relu\"))\n",
    "model.add(layers.Dropout(0.25))\n",
    "model.add(layers.Dense(32, kernel_regularizer=l2(0.01), activation=\"relu\"))\n",
    "model.add(layers.Dense(10, activation=\"softmax\"))\n",
    "\n",
    "\n",
    "sgd = SGD(learning_rate=0.0008, momentum=0.95, nesterov=True)\n",
    "\n",
    "model.compile(optimizer=sgd, loss=\"categorical_crossentropy\", metrics=[\"accuracy\"])"
   ]
  },
  {
   "cell_type": "code",
   "execution_count": 91,
   "id": "cc8049d4",
   "metadata": {
    "ExecuteTime": {
     "end_time": "2023-10-13T15:52:53.960586300Z",
     "start_time": "2023-10-13T15:49:15.924681300Z"
    }
   },
   "outputs": [
    {
     "name": "stdout",
     "output_type": "stream",
     "text": [
      "Epoch 1/20\n",
      "2625/2625 [==============================] - 10s 4ms/step - loss: 5.0906 - accuracy: 0.5267 - val_loss: 2.1897 - val_accuracy: 0.7646\n",
      "Epoch 2/20\n",
      "2625/2625 [==============================] - 9s 4ms/step - loss: 1.4336 - accuracy: 0.7810 - val_loss: 0.9557 - val_accuracy: 0.7990\n",
      "Epoch 3/20\n",
      "2625/2625 [==============================] - 10s 4ms/step - loss: 0.7760 - accuracy: 0.8260 - val_loss: 0.6100 - val_accuracy: 0.8539\n",
      "Epoch 4/20\n",
      "2625/2625 [==============================] - 11s 4ms/step - loss: 0.6203 - accuracy: 0.8469 - val_loss: 0.5592 - val_accuracy: 0.8609\n",
      "Epoch 5/20\n",
      "2625/2625 [==============================] - 10s 4ms/step - loss: 0.5635 - accuracy: 0.8598 - val_loss: 0.5169 - val_accuracy: 0.8745\n",
      "Epoch 6/20\n",
      "2625/2625 [==============================] - 11s 4ms/step - loss: 0.5332 - accuracy: 0.8682 - val_loss: 0.5079 - val_accuracy: 0.8784\n",
      "Epoch 7/20\n",
      "2625/2625 [==============================] - 11s 4ms/step - loss: 0.5128 - accuracy: 0.8756 - val_loss: 0.4994 - val_accuracy: 0.8819\n",
      "Epoch 8/20\n",
      "2625/2625 [==============================] - 11s 4ms/step - loss: 0.4988 - accuracy: 0.8814 - val_loss: 0.4864 - val_accuracy: 0.8843\n",
      "Epoch 9/20\n",
      "2625/2625 [==============================] - 11s 4ms/step - loss: 0.4867 - accuracy: 0.8859 - val_loss: 0.4830 - val_accuracy: 0.8874\n",
      "Epoch 10/20\n",
      "2625/2625 [==============================] - 11s 4ms/step - loss: 0.4755 - accuracy: 0.8907 - val_loss: 0.4785 - val_accuracy: 0.8874\n",
      "Epoch 11/20\n",
      "2625/2625 [==============================] - 11s 4ms/step - loss: 0.4594 - accuracy: 0.8952 - val_loss: 0.4405 - val_accuracy: 0.9012\n",
      "Epoch 12/20\n",
      "2625/2625 [==============================] - 11s 4ms/step - loss: 0.4516 - accuracy: 0.8980 - val_loss: 0.4725 - val_accuracy: 0.8902\n",
      "Epoch 13/20\n",
      "2625/2625 [==============================] - 11s 4ms/step - loss: 0.4435 - accuracy: 0.9014 - val_loss: 0.4510 - val_accuracy: 0.8986\n",
      "Epoch 14/20\n",
      "2625/2625 [==============================] - 11s 4ms/step - loss: 0.4360 - accuracy: 0.9051 - val_loss: 0.4391 - val_accuracy: 0.9038\n",
      "Epoch 15/20\n",
      "2625/2625 [==============================] - 11s 4ms/step - loss: 0.4310 - accuracy: 0.9065 - val_loss: 0.4602 - val_accuracy: 0.8928\n",
      "Epoch 16/20\n",
      "2625/2625 [==============================] - 11s 4ms/step - loss: 0.4250 - accuracy: 0.9086 - val_loss: 0.4369 - val_accuracy: 0.9021\n",
      "Epoch 17/20\n",
      "2625/2625 [==============================] - 11s 4ms/step - loss: 0.4181 - accuracy: 0.9114 - val_loss: 0.4446 - val_accuracy: 0.9041\n",
      "Epoch 18/20\n",
      "2625/2625 [==============================] - 11s 4ms/step - loss: 0.4099 - accuracy: 0.9152 - val_loss: 0.4522 - val_accuracy: 0.8998\n",
      "Epoch 19/20\n",
      "2625/2625 [==============================] - 11s 4ms/step - loss: 0.4082 - accuracy: 0.9150 - val_loss: 0.4490 - val_accuracy: 0.9046\n",
      "Epoch 20/20\n",
      "2625/2625 [==============================] - 11s 4ms/step - loss: 0.4071 - accuracy: 0.9171 - val_loss: 0.4317 - val_accuracy: 0.9086\n"
     ]
    }
   ],
   "source": [
    "history = model.fit(\n",
    "    X_train, y_train, epochs=20, batch_size=32, validation_data=(X_valid, y_valid)\n",
    ")"
   ]
  },
  {
   "cell_type": "code",
   "execution_count": 96,
   "outputs": [
    {
     "name": "stdout",
     "output_type": "stream",
     "text": [
      "2625/2625 [==============================] - 4s 2ms/step\n"
     ]
    },
    {
     "data": {
      "text/plain": "93.45952380952382"
     },
     "execution_count": 96,
     "metadata": {},
     "output_type": "execute_result"
    }
   ],
   "source": [
    "y_pred = model.predict(X_train)\n",
    "onehot_pred = np.argmax(y_pred, axis=1)\n",
    "onehot_test = np.argmax(y_train, axis=1)\n",
    "\n",
    "np.mean(onehot_pred == onehot_test) * 100"
   ],
   "metadata": {
    "collapsed": false,
    "ExecuteTime": {
     "end_time": "2023-10-13T17:23:51.060430200Z",
     "start_time": "2023-10-13T17:23:45.678155900Z"
    }
   },
   "id": "6747960329cd7740"
  },
  {
   "cell_type": "code",
   "execution_count": 97,
   "outputs": [
    {
     "name": "stdout",
     "output_type": "stream",
     "text": [
      "563/563 [==============================] - 1s 1ms/step\n"
     ]
    },
    {
     "data": {
      "text/plain": "90.65555555555555"
     },
     "execution_count": 97,
     "metadata": {},
     "output_type": "execute_result"
    }
   ],
   "source": [
    "y_pred = model.predict(X_test)\n",
    "onehot_pred = np.argmax(y_pred, axis=1)\n",
    "onehot_test = np.argmax(y_test, axis=1)\n",
    "\n",
    "np.mean(onehot_pred == onehot_test) * 100"
   ],
   "metadata": {
    "collapsed": false,
    "ExecuteTime": {
     "end_time": "2023-10-13T17:23:57.892209900Z",
     "start_time": "2023-10-13T17:23:56.957233100Z"
    }
   },
   "id": "738d9a1b2d8900a5"
  },
  {
   "cell_type": "code",
   "execution_count": 99,
   "outputs": [
    {
     "data": {
      "text/plain": "'Bag'"
     },
     "execution_count": 99,
     "metadata": {},
     "output_type": "execute_result"
    },
    {
     "data": {
      "text/plain": "<Figure size 640x480 with 1 Axes>",
      "image/png": "[encoded data removed]"
     },
     "metadata": {},
     "output_type": "display_data"
    }
   ],
   "source": [
    "plt.imshow(X_test[0], cmap=\"gray\")\n",
    "fashion_class_name[np.argmax(y_pred[0])]"
   ],
   "metadata": {
    "collapsed": false,
    "ExecuteTime": {
     "end_time": "2023-10-13T17:25:31.142647800Z",
     "start_time": "2023-10-13T17:25:31.074848600Z"
    }
   },
   "id": "ad8d32b5f9e9d548"
  },
  {
   "cell_type": "code",
   "execution_count": 100,
   "outputs": [
    {
     "data": {
      "text/plain": "'Trouser'"
     },
     "execution_count": 100,
     "metadata": {},
     "output_type": "execute_result"
    },
    {
     "data": {
      "text/plain": "<Figure size 640x480 with 1 Axes>",
      "image/png": "[encoded data removed]"
     },
     "metadata": {},
     "output_type": "display_data"
    }
   ],
   "source": [
    "plt.imshow(X_test[1], cmap=\"gray\")\n",
    "fashion_class_name[np.argmax(y_pred[1])]"
   ],
   "metadata": {
    "collapsed": false,
    "ExecuteTime": {
     "end_time": "2023-10-13T17:25:31.569954400Z",
     "start_time": "2023-10-13T17:25:31.475220Z"
    }
   },
   "id": "496aad1359ef5ebf"
  },
  {
   "cell_type": "code",
   "execution_count": 101,
   "outputs": [
    {
     "data": {
      "text/plain": "'T-shirt/top'"
     },
     "execution_count": 101,
     "metadata": {},
     "output_type": "execute_result"
    },
    {
     "data": {
      "text/plain": "<Figure size 640x480 with 1 Axes>",
      "image/png": "[encoded data removed]"
     },
     "metadata": {},
     "output_type": "display_data"
    }
   ],
   "source": [
    "plt.imshow(X_test[2], cmap=\"gray\")\n",
    "fashion_class_name[np.argmax(y_pred[2])]"
   ],
   "metadata": {
    "collapsed": false,
    "ExecuteTime": {
     "end_time": "2023-10-13T17:25:32.319773Z",
     "start_time": "2023-10-13T17:25:32.247340800Z"
    }
   },
   "id": "67e58b80f7be46b8"
  },
  {
   "cell_type": "code",
   "execution_count": 95,
   "outputs": [],
   "source": [],
   "metadata": {
    "collapsed": false,
    "ExecuteTime": {
     "end_time": "2023-10-13T15:52:55.421813600Z",
     "start_time": "2023-10-13T15:52:55.378957100Z"
    }
   },
   "id": "eb71eb1465da68d6"
  }
 ],
 "metadata": {
  "kernelspec": {
   "display_name": "Python 3 (ipykernel)",
   "language": "python",
   "name": "python3"
  },
  "language_info": {
   "codemirror_mode": {
    "name": "ipython",
    "version": 3
   },
   "file_extension": ".py",
   "mimetype": "text/x-python",
   "name": "python",
   "nbconvert_exporter": "python",
   "pygments_lexer": "ipython3",
   "version": "3.10.4"
  }
 },
 "nbformat": 4,
 "nbformat_minor": 5
}
