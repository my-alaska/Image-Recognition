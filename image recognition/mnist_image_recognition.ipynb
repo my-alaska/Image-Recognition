{
 "cells": [
  {
   "cell_type": "code",
   "execution_count": 50,
   "id": "f22d38fc",
   "metadata": {
    "ExecuteTime": {
     "end_time": "2023-10-11T17:09:20.767564700Z",
     "start_time": "2023-10-11T17:09:20.740565600Z"
    }
   },
   "outputs": [],
   "source": [
    "import tensorflow as tf\n",
    "import matplotlib.pyplot as plt\n",
    "import numpy as np"
   ]
  },
  {
   "cell_type": "code",
   "execution_count": 51,
   "id": "61b3a84e",
   "metadata": {
    "ExecuteTime": {
     "end_time": "2023-10-11T17:09:20.881317Z",
     "start_time": "2023-10-11T17:09:20.743564200Z"
    }
   },
   "outputs": [],
   "source": [
    "digits = tf.keras.datasets.mnist.load_data()"
   ]
  },
  {
   "cell_type": "code",
   "execution_count": 52,
   "id": "dcc0211d",
   "metadata": {
    "ExecuteTime": {
     "end_time": "2023-10-11T17:09:20.881317Z",
     "start_time": "2023-10-11T17:09:20.875876200Z"
    }
   },
   "outputs": [],
   "source": [
    "digits_a, digits_b = digits"
   ]
  },
  {
   "cell_type": "code",
   "execution_count": 53,
   "id": "336d0e72",
   "metadata": {
    "ExecuteTime": {
     "end_time": "2023-10-11T17:09:20.881317Z",
     "start_time": "2023-10-11T17:09:20.879201700Z"
    }
   },
   "outputs": [
    {
     "data": {
      "text/plain": "10000"
     },
     "execution_count": 53,
     "metadata": {},
     "output_type": "execute_result"
    }
   ],
   "source": [
    "digits_X, digits_y = digits_b\n",
    "len(digits_X)"
   ]
  },
  {
   "cell_type": "code",
   "execution_count": 54,
   "id": "6dd4d4c1",
   "metadata": {
    "ExecuteTime": {
     "end_time": "2023-10-11T17:09:20.894053500Z",
     "start_time": "2023-10-11T17:09:20.882313400Z"
    }
   },
   "outputs": [],
   "source": [
    "digits_X = np.array(digits_X)\n",
    "digits_y = np.array(digits_y)"
   ]
  },
  {
   "cell_type": "code",
   "execution_count": 55,
   "id": "819afb6a",
   "metadata": {
    "ExecuteTime": {
     "end_time": "2023-10-11T17:09:20.970280500Z",
     "start_time": "2023-10-11T17:09:20.886053400Z"
    }
   },
   "outputs": [
    {
     "data": {
      "text/plain": "<matplotlib.image.AxesImage at 0x2f2ca9effd0>"
     },
     "execution_count": 55,
     "metadata": {},
     "output_type": "execute_result"
    },
    {
     "data": {
      "text/plain": "<Figure size 640x480 with 1 Axes>",
      "image/png": "[encoded data removed]"
     },
     "metadata": {},
     "output_type": "display_data"
    }
   ],
   "source": [
    "plt.imshow(digits_X[0], cmap=\"gray\")"
   ]
  },
  {
   "cell_type": "code",
   "execution_count": 56,
   "id": "1363469f",
   "metadata": {
    "ExecuteTime": {
     "end_time": "2023-10-11T17:09:21.144709600Z",
     "start_time": "2023-10-11T17:09:20.940280300Z"
    }
   },
   "outputs": [],
   "source": [
    "fashion = tf.keras.datasets.fashion_mnist.load_data()"
   ]
  },
  {
   "cell_type": "code",
   "execution_count": 57,
   "id": "d2011684",
   "metadata": {
    "ExecuteTime": {
     "end_time": "2023-10-11T17:09:21.160183700Z",
     "start_time": "2023-10-11T17:09:21.145709700Z"
    }
   },
   "outputs": [],
   "source": [
    "fashion_a, fashion_b = fashion"
   ]
  },
  {
   "cell_type": "code",
   "execution_count": 58,
   "id": "92549317",
   "metadata": {
    "ExecuteTime": {
     "end_time": "2023-10-11T17:09:21.160183700Z",
     "start_time": "2023-10-11T17:09:21.149411500Z"
    }
   },
   "outputs": [
    {
     "data": {
      "text/plain": "60000"
     },
     "execution_count": 58,
     "metadata": {},
     "output_type": "execute_result"
    }
   ],
   "source": [
    "fashion_X, fashion_y = fashion_a\n",
    "len(fashion_X)"
   ]
  },
  {
   "cell_type": "code",
   "execution_count": 59,
   "id": "cbe8ff75",
   "metadata": {
    "ExecuteTime": {
     "end_time": "2023-10-11T17:09:21.187894300Z",
     "start_time": "2023-10-11T17:09:21.153183900Z"
    }
   },
   "outputs": [],
   "source": [
    "fashion_X = np.array(fashion_X)\n",
    "fashion_y = np.array(fashion_y)"
   ]
  },
  {
   "cell_type": "code",
   "execution_count": 60,
   "id": "6a8f1812",
   "metadata": {
    "ExecuteTime": {
     "end_time": "2023-10-11T17:09:21.252700200Z",
     "start_time": "2023-10-11T17:09:21.164893500Z"
    }
   },
   "outputs": [
    {
     "data": {
      "text/plain": "<matplotlib.image.AxesImage at 0x2f29348fc50>"
     },
     "execution_count": 60,
     "metadata": {},
     "output_type": "execute_result"
    },
    {
     "data": {
      "text/plain": "<Figure size 640x480 with 1 Axes>",
      "image/png": "[encoded data removed]"
     },
     "metadata": {},
     "output_type": "display_data"
    }
   ],
   "source": [
    "plt.imshow(fashion_X[0], cmap=\"gray\")"
   ]
  },
  {
   "cell_type": "code",
   "execution_count": 61,
   "id": "0727c0a3",
   "metadata": {
    "ExecuteTime": {
     "end_time": "2023-10-11T17:09:21.252700200Z",
     "start_time": "2023-10-11T17:09:21.216511900Z"
    }
   },
   "outputs": [],
   "source": [
    "np.random.seed(42)\n",
    "idx_L = np.random.randint(0, len(fashion_X), len(fashion_X) * 2)\n",
    "idx_R = np.random.randint(0, len(fashion_X), len(fashion_X) * 2)\n",
    "idx_M = np.random.randint(0, len(digits_X), len(fashion_X) * 2)"
   ]
  },
  {
   "cell_type": "code",
   "execution_count": 62,
   "id": "8f4b5dae",
   "metadata": {
    "ExecuteTime": {
     "end_time": "2023-10-11T17:09:21.295366700Z",
     "start_time": "2023-10-11T17:09:21.221699200Z"
    }
   },
   "outputs": [],
   "source": [
    "L_X, L_y = fashion_X[idx_L], fashion_y[idx_L]\n",
    "M_X, M_y = digits_X[idx_M], digits_y[idx_M]\n",
    "R_X, R_y = fashion_X[idx_R], fashion_y[idx_R]"
   ]
  },
  {
   "cell_type": "code",
   "execution_count": 63,
   "id": "b48420d9",
   "metadata": {
    "ExecuteTime": {
     "end_time": "2023-10-11T17:09:21.474307200Z",
     "start_time": "2023-10-11T17:09:21.296366800Z"
    }
   },
   "outputs": [],
   "source": [
    "from tensorflow.keras.utils import to_categorical\n",
    "\n",
    "X = np.concatenate([L_X, M_X, R_X], axis=2)\n",
    "y = to_categorical(np.stack(L_y * (M_y % 2 == 0) + R_y * (M_y % 2 != 0)))"
   ]
  },
  {
   "cell_type": "code",
   "execution_count": 64,
   "id": "b212cd1f",
   "metadata": {
    "ExecuteTime": {
     "end_time": "2023-10-11T17:09:21.549312400Z",
     "start_time": "2023-10-11T17:09:21.475307400Z"
    }
   },
   "outputs": [
    {
     "data": {
      "text/plain": "<matplotlib.image.AxesImage at 0x2f293514890>"
     },
     "execution_count": 64,
     "metadata": {},
     "output_type": "execute_result"
    },
    {
     "data": {
      "text/plain": "<Figure size 640x480 with 1 Axes>",
      "image/png": "[encoded data removed]"
     },
     "metadata": {},
     "output_type": "display_data"
    }
   ],
   "source": [
    "plt.imshow(X[0], cmap=\"gray\")"
   ]
  },
  {
   "cell_type": "code",
   "execution_count": 65,
   "id": "e72b2045",
   "metadata": {
    "ExecuteTime": {
     "end_time": "2023-10-11T17:09:21.637871300Z",
     "start_time": "2023-10-11T17:09:21.538312400Z"
    }
   },
   "outputs": [],
   "source": [
    "from sklearn.model_selection import train_test_split\n",
    "\n",
    "X_train, X_test, y_train, y_test = train_test_split(\n",
    "    X, y, test_size=0.3, random_state=42\n",
    ")\n",
    "X_test, X_valid, y_test, y_valid = train_test_split(\n",
    "    X_test, y_test, test_size=0.5, random_state=42\n",
    ")"
   ]
  },
  {
   "cell_type": "code",
   "execution_count": 110,
   "id": "c0a59a82",
   "metadata": {
    "ExecuteTime": {
     "end_time": "2023-10-11T17:43:46.606929Z",
     "start_time": "2023-10-11T17:43:46.549194600Z"
    }
   },
   "outputs": [],
   "source": [
    "from tensorflow.keras import layers, models, losses\n",
    "from tensorflow.keras.optimizers import SGD\n",
    "from tensorflow.keras.optimizers.schedules import ExponentialDecay\n",
    "\n",
    "model = models.Sequential()\n",
    "model.add(\n",
    "    layers.Conv2D(\n",
    "        64, (3, 3), padding=\"same\", activation=\"relu\", input_shape=(28, 84, 1)\n",
    "    )\n",
    ")\n",
    "model.add(layers.BatchNormalization())\n",
    "model.add(layers.MaxPooling2D((2, 2)))\n",
    "model.add(\n",
    "    layers.Conv2D(\n",
    "        72, (3, 3), padding=\"same\", activation=\"relu\", input_shape=(14, 42, 64)\n",
    "    )\n",
    ")\n",
    "model.add(layers.BatchNormalization())\n",
    "model.add(layers.MaxPooling2D((2, 2)))\n",
    "\n",
    "model.add(layers.Flatten())\n",
    "model.add(layers.Dense(512, activation=\"relu\"))\n",
    "model.add(layers.BatchNormalization())\n",
    "model.add(layers.Dropout(0.5))\n",
    "model.add(layers.Dense(128, activation=\"relu\"))\n",
    "model.add(layers.Dense(10, activation=\"softmax\"))\n",
    "\n",
    "lr_schedule = ExponentialDecay(\n",
    "    initial_learning_rate=1e-3, decay_steps=1000, decay_rate=0.9\n",
    ")\n",
    "sgd = SGD(learning_rate=lr_schedule, momentum=0.9)\n",
    "\n",
    "model.compile(optimizer=sgd, loss=\"categorical_crossentropy\", metrics=[\"accuracy\"])"
   ]
  },
  {
   "cell_type": "code",
   "execution_count": 111,
   "id": "cc8049d4",
   "metadata": {
    "ExecuteTime": {
     "end_time": "2023-10-11T18:01:37.375151500Z",
     "start_time": "2023-10-11T17:43:46.756027700Z"
    }
   },
   "outputs": [
    {
     "name": "stdout",
     "output_type": "stream",
     "text": [
      "Epoch 1/5\n",
      "2625/2625 [==============================] - 172s 65ms/step - loss: 0.8880 - accuracy: 0.6885 - val_loss: 0.4895 - val_accuracy: 0.8202\n",
      "Epoch 2/5\n",
      "2625/2625 [==============================] - 234s 89ms/step - loss: 0.5079 - accuracy: 0.8214 - val_loss: 0.3935 - val_accuracy: 0.8588\n",
      "Epoch 3/5\n",
      "2625/2625 [==============================] - 231s 88ms/step - loss: 0.4096 - accuracy: 0.8538 - val_loss: 0.3439 - val_accuracy: 0.8751\n",
      "Epoch 4/5\n",
      "2625/2625 [==============================] - 229s 87ms/step - loss: 0.3546 - accuracy: 0.8746 - val_loss: 0.3092 - val_accuracy: 0.8886\n",
      "Epoch 5/5\n",
      "2625/2625 [==============================] - 205s 78ms/step - loss: 0.3179 - accuracy: 0.8870 - val_loss: 0.3287 - val_accuracy: 0.8809\n"
     ]
    }
   ],
   "source": [
    "history = model.fit(X_train, y_train, epochs=5, validation_data=(X_valid, y_valid))"
   ]
  },
  {
   "cell_type": "code",
   "execution_count": 112,
   "outputs": [
    {
     "name": "stdout",
     "output_type": "stream",
     "text": [
      "563/563 [==============================] - 8s 14ms/step\n"
     ]
    },
    {
     "data": {
      "text/plain": "88.4"
     },
     "execution_count": 112,
     "metadata": {},
     "output_type": "execute_result"
    }
   ],
   "source": [
    "predicted_classes = np.argmax(model.predict(X_test), axis=1)\n",
    "true_classes = np.argmax(y_test, axis=1)\n",
    "\n",
    "np.mean(predicted_classes == true_classes) * 100"
   ],
   "metadata": {
    "collapsed": false,
    "ExecuteTime": {
     "end_time": "2023-10-11T18:10:37.643912600Z",
     "start_time": "2023-10-11T18:10:29.632198800Z"
    }
   },
   "id": "738d9a1b2d8900a5"
  },
  {
   "cell_type": "code",
   "execution_count": null,
   "outputs": [],
   "source": [],
   "metadata": {
    "collapsed": false
   },
   "id": "7047b5112617a240"
  }
 ],
 "metadata": {
  "kernelspec": {
   "display_name": "Python 3 (ipykernel)",
   "language": "python",
   "name": "python3"
  },
  "language_info": {
   "codemirror_mode": {
    "name": "ipython",
    "version": 3
   },
   "file_extension": ".py",
   "mimetype": "text/x-python",
   "name": "python",
   "nbconvert_exporter": "python",
   "pygments_lexer": "ipython3",
   "version": "3.10.4"
  }
 },
 "nbformat": 4,
 "nbformat_minor": 5
}
