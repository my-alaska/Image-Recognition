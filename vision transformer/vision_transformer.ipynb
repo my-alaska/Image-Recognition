{
 "cells": [
  {
   "cell_type": "code",
   "execution_count": 1,
   "id": "initial_id",
   "metadata": {
    "collapsed": true,
    "ExecuteTime": {
     "end_time": "2023-12-01T10:53:42.421797900Z",
     "start_time": "2023-12-01T10:53:41.134601600Z"
    }
   },
   "outputs": [],
   "source": [
    "import torch as torch"
   ]
  },
  {
   "cell_type": "code",
   "execution_count": 2,
   "outputs": [],
   "source": [
    "if torch.cuda.is_available():\n",
    "    cuda_id = torch.cuda.current_device()\n",
    "    device_name = torch.cuda.get_device_name(cuda_id)\n",
    "    device = \"cuda:0\"\n",
    "else:\n",
    "    device = \"cpu\""
   ],
   "metadata": {
    "collapsed": false,
    "ExecuteTime": {
     "end_time": "2023-12-01T10:53:42.454795900Z",
     "start_time": "2023-12-01T10:53:42.422799600Z"
    }
   },
   "id": "e8a100858fc8b50b"
  },
  {
   "cell_type": "markdown",
   "source": [
    "### Download and preparethe data\n",
    "\n",
    "We'll use the CIFAR10 dataset"
   ],
   "metadata": {
    "collapsed": false
   },
   "id": "f51fdad69ce1e7a6"
  },
  {
   "cell_type": "code",
   "execution_count": 3,
   "outputs": [],
   "source": [
    "import os\n",
    "from torchvision.datasets import CIFAR10\n",
    "import torchvision.transforms as transforms\n",
    "from torch.utils.data import DataLoader"
   ],
   "metadata": {
    "collapsed": false,
    "ExecuteTime": {
     "end_time": "2023-12-01T10:53:42.785403100Z",
     "start_time": "2023-12-01T10:53:42.453795900Z"
    }
   },
   "id": "86e29a36b84c2248"
  },
  {
   "cell_type": "code",
   "execution_count": 4,
   "outputs": [],
   "source": [
    "batch_size = 100"
   ],
   "metadata": {
    "collapsed": false,
    "ExecuteTime": {
     "end_time": "2023-12-01T10:53:42.802402200Z",
     "start_time": "2023-12-01T10:53:42.786403100Z"
    }
   },
   "id": "bf8b0e5f6d01c396"
  },
  {
   "cell_type": "code",
   "execution_count": 5,
   "outputs": [
    {
     "name": "stdout",
     "output_type": "stream",
     "text": [
      "Files already downloaded and verified\n",
      "Files already downloaded and verified\n"
     ]
    }
   ],
   "source": [
    "# download and augment the training dataset\n",
    "if not os.path.exists(\"./data\"):\n",
    "    os.mkdir(\"./data\")\n",
    "\n",
    "data = CIFAR10(\n",
    "    root=\"./data\",\n",
    "    train=True,\n",
    "    transform=transforms.Compose(\n",
    "        [\n",
    "            transforms.RandomHorizontalFlip(),\n",
    "            transforms.RandomResizedCrop(size=32, ratio=(0.9, 1.1)),\n",
    "            transforms.ToTensor(),\n",
    "            transforms.Normalize(0, 1),\n",
    "        ]\n",
    "    ),\n",
    "    download=True,\n",
    ")\n",
    "\n",
    "data_loader = DataLoader(data, batch_size=batch_size, shuffle=True)\n",
    "\n",
    "test_data = CIFAR10(\n",
    "    root=\"./data\",\n",
    "    train=False,\n",
    "    transform=transforms.Compose(\n",
    "        [\n",
    "            transforms.ToTensor(),\n",
    "            transforms.Normalize(0, 1),\n",
    "        ]\n",
    "    ),\n",
    "    download=True,\n",
    ")\n",
    "test_loader = DataLoader(test_data, batch_size=batch_size, shuffle=True)"
   ],
   "metadata": {
    "collapsed": false,
    "ExecuteTime": {
     "end_time": "2023-12-01T10:53:43.833168700Z",
     "start_time": "2023-12-01T10:53:42.804402300Z"
    }
   },
   "id": "8ddb240309e17171"
  },
  {
   "cell_type": "code",
   "execution_count": 6,
   "outputs": [
    {
     "data": {
      "text/plain": "['airplane',\n 'automobile',\n 'bird',\n 'cat',\n 'deer',\n 'dog',\n 'frog',\n 'horse',\n 'ship',\n 'truck']"
     },
     "execution_count": 6,
     "metadata": {},
     "output_type": "execute_result"
    }
   ],
   "source": [
    "classes = data.classes\n",
    "classes"
   ],
   "metadata": {
    "collapsed": false,
    "ExecuteTime": {
     "end_time": "2023-12-01T10:53:43.859167500Z",
     "start_time": "2023-12-01T10:53:43.834318600Z"
    }
   },
   "id": "a2cc10088ac10168"
  },
  {
   "cell_type": "markdown",
   "source": [
    "### Print out an example image"
   ],
   "metadata": {
    "collapsed": false
   },
   "id": "d2277894ab71e829"
  },
  {
   "cell_type": "code",
   "execution_count": 7,
   "outputs": [],
   "source": [
    "import matplotlib.pyplot as plt"
   ],
   "metadata": {
    "collapsed": false,
    "ExecuteTime": {
     "end_time": "2023-12-01T10:53:44.070660600Z",
     "start_time": "2023-12-01T10:53:43.848167800Z"
    }
   },
   "id": "4b0b70f16ea958b1"
  },
  {
   "cell_type": "code",
   "execution_count": 8,
   "outputs": [],
   "source": [
    "def display(image, size=8):\n",
    "    print(image[0].shape)\n",
    "    image = image[0].permute((1, 2, 0))\n",
    "    plt.figure(figsize=(size, size))\n",
    "    plt.axis(\"off\")\n",
    "    plt.imshow(image)\n",
    "    plt.show()"
   ],
   "metadata": {
    "collapsed": false,
    "ExecuteTime": {
     "end_time": "2023-12-01T10:53:44.085285800Z",
     "start_time": "2023-12-01T10:53:44.072665500Z"
    }
   },
   "id": "f6403a2595f0aea8"
  },
  {
   "cell_type": "code",
   "execution_count": 9,
   "outputs": [
    {
     "name": "stdout",
     "output_type": "stream",
     "text": [
      "torch.Size([3, 32, 32])\n"
     ]
    },
    {
     "data": {
      "text/plain": "<Figure size 800x800 with 1 Axes>",
      "image/png": "[encoded data removed]"
     },
     "metadata": {},
     "output_type": "display_data"
    }
   ],
   "source": [
    "display(data[14])"
   ],
   "metadata": {
    "collapsed": false,
    "ExecuteTime": {
     "end_time": "2023-12-01T10:53:44.143283800Z",
     "start_time": "2023-12-01T10:53:44.086286Z"
    }
   },
   "id": "eaed33a246824db1"
  },
  {
   "cell_type": "markdown",
   "source": [
    "### Split a batch of data into batch of patches"
   ],
   "metadata": {
    "collapsed": false
   },
   "id": "465cffcc2714f724"
  },
  {
   "cell_type": "code",
   "execution_count": 10,
   "outputs": [],
   "source": [
    "import torchvision.utils as vutils"
   ],
   "metadata": {
    "collapsed": false,
    "ExecuteTime": {
     "end_time": "2023-12-01T10:53:44.156283900Z",
     "start_time": "2023-12-01T10:53:44.135284700Z"
    }
   },
   "id": "369ba5d45a1b4be"
  },
  {
   "cell_type": "code",
   "execution_count": 11,
   "outputs": [],
   "source": [
    "def batch_patch(tensor, step=4):\n",
    "    if len(tensor.shape) == 3:\n",
    "        return (\n",
    "            tensor.unfold(0, 3, 3)\n",
    "            .unfold(1, step, step)\n",
    "            .unfold(2, step, step)\n",
    "            .flatten(start_dim=0, end_dim=2)\n",
    "        )\n",
    "    return (\n",
    "        tensor.unfold(1, 3, 3)\n",
    "        .unfold(2, step, step)\n",
    "        .unfold(3, step, step)\n",
    "        .squeeze()\n",
    "        .flatten(start_dim=1, end_dim=2)\n",
    "    )"
   ],
   "metadata": {
    "collapsed": false,
    "ExecuteTime": {
     "end_time": "2023-12-01T10:53:44.196281Z",
     "start_time": "2023-12-01T10:53:44.151283100Z"
    }
   },
   "id": "fc9a852d8ac38345"
  },
  {
   "cell_type": "code",
   "execution_count": 12,
   "outputs": [
    {
     "name": "stdout",
     "output_type": "stream",
     "text": [
      "torch.Size([100, 3, 32, 32])\n"
     ]
    },
    {
     "data": {
      "text/plain": "<matplotlib.image.AxesImage at 0x1c906b973a0>"
     },
     "execution_count": 12,
     "metadata": {},
     "output_type": "execute_result"
    },
    {
     "data": {
      "text/plain": "<Figure size 800x800 with 1 Axes>",
      "image/png": "[encoded data removed]"
     },
     "metadata": {},
     "output_type": "display_data"
    }
   ],
   "source": [
    "d = next(iter(data_loader))[0]\n",
    "print(d.shape)\n",
    "\n",
    "step = 4\n",
    "plt.figure(figsize=(8, 8))\n",
    "plt.axis(\"off\")\n",
    "plt.imshow(\n",
    "    (\n",
    "        vutils.make_grid(\n",
    "            batch_patch(d, step)[0], nrow=32 // step, padding=1, normalize=True\n",
    "        )\n",
    "        .permute(1, 2, 0)\n",
    "        .detach()\n",
    "        .cpu()\n",
    "        .numpy()\n",
    "    )\n",
    ")"
   ],
   "metadata": {
    "collapsed": false,
    "ExecuteTime": {
     "end_time": "2023-12-01T10:53:44.272280600Z",
     "start_time": "2023-12-01T10:53:44.170282800Z"
    }
   },
   "id": "6d34b5fd5ea80488"
  },
  {
   "cell_type": "markdown",
   "source": [
    "### Implement the model"
   ],
   "metadata": {
    "collapsed": false
   },
   "id": "e62f272b295fbb17"
  },
  {
   "cell_type": "code",
   "execution_count": 13,
   "outputs": [],
   "source": [
    "import torch.nn as nn"
   ],
   "metadata": {
    "collapsed": false,
    "ExecuteTime": {
     "end_time": "2023-12-01T10:53:44.273278Z",
     "start_time": "2023-12-01T10:53:44.244279600Z"
    }
   },
   "id": "4367f5eb69f307e4"
  },
  {
   "cell_type": "markdown",
   "source": [
    "Implement a transformer block - We'll need a few of them so it's easier to make a separate class"
   ],
   "metadata": {
    "collapsed": false
   },
   "id": "b3349943544c2b8f"
  },
  {
   "cell_type": "code",
   "execution_count": 14,
   "outputs": [],
   "source": [
    "# this implementation is currently not working. For some reason. I don't know why\n",
    "class TransformerBlock(nn.Module):\n",
    "    def __init__(self, n_dims=256, num_heads=8):\n",
    "        super(TransformerBlock, self).__init__()\n",
    "        self.norm = nn.LayerNorm(n_dims)\n",
    "        self.attention = nn.MultiheadAttention(\n",
    "            embed_dim=n_dims,\n",
    "            num_heads=num_heads,\n",
    "        )\n",
    "        self.network = nn.Sequential(\n",
    "            nn.LayerNorm(n_dims),\n",
    "            nn.Linear(n_dims, 2 * n_dims),\n",
    "            nn.GELU(),\n",
    "            nn.Dropout(0.2),\n",
    "            nn.Linear(2 * n_dims, n_dims),\n",
    "            nn.Dropout(0.2),\n",
    "        )\n",
    "\n",
    "    def _forward1(self, inp):\n",
    "        out = self.norm(inp)\n",
    "        out = self.attention(out, out, out)[0]\n",
    "        return out + inp\n",
    "\n",
    "    def _forward2(self, inp):\n",
    "        out = self.network(inp)\n",
    "        return out + inp\n",
    "\n",
    "    def forward(self, tr_input):\n",
    "        out = self._forward1(tr_input)\n",
    "        out = self._forward2(out)\n",
    "        return out"
   ],
   "metadata": {
    "collapsed": false,
    "ExecuteTime": {
     "end_time": "2023-12-01T10:53:44.284277400Z",
     "start_time": "2023-12-01T10:53:44.264278800Z"
    }
   },
   "id": "a0c0b2525e1a83cc"
  },
  {
   "cell_type": "markdown",
   "source": [
    "Whole model"
   ],
   "metadata": {
    "collapsed": false
   },
   "id": "8cd89879c2ced40b"
  },
  {
   "cell_type": "code",
   "execution_count": 15,
   "outputs": [],
   "source": [
    "class VisionTransformerModel(nn.Module):\n",
    "    def __init__(self, n_classes, patch_size=4, im_size=32, n_dims=256):\n",
    "        super(VisionTransformerModel, self).__init__()\n",
    "        self.patch_size = patch_size\n",
    "        self.token = nn.Parameter(\n",
    "            torch.rand(n_dims, dtype=torch.float32, requires_grad=True, device=device)\n",
    "        )\n",
    "        self.positional_vector = nn.Parameter(\n",
    "            torch.rand(\n",
    "                ((im_size // patch_size) ** 2 + 1, n_dims),\n",
    "                requires_grad=True,\n",
    "                device=device,\n",
    "            )\n",
    "        )\n",
    "        self.patch_flatten = nn.Flatten(start_dim=-3)\n",
    "        self.embed = nn.Linear(3 * patch_size**2, n_dims)\n",
    "        self.dropout1 = nn.Dropout(0.2)\n",
    "        # self.transformers = nn.Sequential(\n",
    "        #     TransformerBlock(n_dims=n_dims),\n",
    "        #     TransformerBlock(n_dims=n_dims),\n",
    "        #     TransformerBlock(n_dims=n_dims),\n",
    "        #     TransformerBlock(n_dims=n_dims),\n",
    "        #     TransformerBlock(n_dims=n_dims),\n",
    "        #     TransformerBlock(n_dims=n_dims),\n",
    "        # ).to(device)\n",
    "        self.transformers = nn.TransformerEncoder(\n",
    "            nn.TransformerEncoderLayer(\n",
    "                d_model=n_dims,\n",
    "                nhead=8,\n",
    "                dim_feedforward=2 * n_dims,\n",
    "                dropout=0.2,\n",
    "                activation=\"gelu\",\n",
    "                norm_first=True,\n",
    "                batch_first=True,\n",
    "            ),\n",
    "            6,\n",
    "        )\n",
    "\n",
    "        self.normalization = nn.LayerNorm(n_dims)\n",
    "        self.MLP = nn.Linear(n_dims, n_classes)\n",
    "\n",
    "    def forward(self, img):\n",
    "        patched = batch_patch(img, self.patch_size)\n",
    "\n",
    "        flattened = self.patch_flatten(patched)\n",
    "        embedded = self.embed(flattened)\n",
    "\n",
    "        class_token = torch.ones(img.shape[0]).to(device).reshape(-1, 1, 1) * self.token\n",
    "        with_token = torch.concat([class_token, embedded], 1)\n",
    "\n",
    "        with_encode = with_token + self.positional_vector\n",
    "\n",
    "        after_dropout = self.dropout1(with_encode)\n",
    "        tr = self.transformers(after_dropout)[:, 0]\n",
    "        normalized = self.normalization(tr)\n",
    "        post_mlp = self.MLP(normalized)\n",
    "        return post_mlp"
   ],
   "metadata": {
    "collapsed": false,
    "ExecuteTime": {
     "end_time": "2023-12-01T10:53:44.316276700Z",
     "start_time": "2023-12-01T10:53:44.277278400Z"
    }
   },
   "id": "42d2eb72a01a9dd3"
  },
  {
   "cell_type": "markdown",
   "source": [
    "### Prepare the model for training"
   ],
   "metadata": {
    "collapsed": false
   },
   "id": "3379bcd0be342b6a"
  },
  {
   "cell_type": "code",
   "execution_count": 16,
   "outputs": [
    {
     "name": "stderr",
     "output_type": "stream",
     "text": [
      "C:\\Users\\piotr\\AppData\\Local\\Programs\\Python\\Python310\\lib\\site-packages\\torch\\nn\\modules\\transformer.py:282: UserWarning: enable_nested_tensor is True, but self.use_nested_tensor is False because encoder_layer.norm_first was True\n",
      "  warnings.warn(f\"enable_nested_tensor is True, but self.use_nested_tensor is False because {why_not_sparsity_fast_path}\")\n"
     ]
    }
   ],
   "source": [
    "model = VisionTransformerModel(len(data.classes)).to(device)"
   ],
   "metadata": {
    "collapsed": false,
    "ExecuteTime": {
     "end_time": "2023-12-01T10:53:45.121852Z",
     "start_time": "2023-12-01T10:53:44.293277Z"
    }
   },
   "id": "b9991d03b14aacff"
  },
  {
   "cell_type": "code",
   "execution_count": 17,
   "outputs": [
    {
     "data": {
      "text/plain": "'attached.png'"
     },
     "execution_count": 17,
     "metadata": {},
     "output_type": "execute_result"
    }
   ],
   "source": [
    "from torchviz import make_dot\n",
    "import torch\n",
    "from torch.autograd import Variable\n",
    "\n",
    "x = Variable(torch.rand((100, 3, 32, 32)).to(device), requires_grad=True)\n",
    "y = model(x)\n",
    "\n",
    "make_dot(y).render(\"attached\", format=\"png\")"
   ],
   "metadata": {
    "collapsed": false,
    "ExecuteTime": {
     "end_time": "2023-12-01T10:53:46.285726100Z",
     "start_time": "2023-12-01T10:53:45.121852Z"
    }
   },
   "id": "2a6e20c09c207772"
  },
  {
   "cell_type": "code",
   "execution_count": 18,
   "outputs": [],
   "source": [
    "params = [p for p in model.parameters()]\n",
    "optimizer = torch.optim.AdamW(params, lr=0.001, weight_decay=0.01)\n",
    "scheduler = torch.optim.lr_scheduler.MultiStepLR(\n",
    "    optimizer, [x for x in range(10, 16 + 10, 10)], 0.8\n",
    ")\n",
    "loss_fn = torch.nn.CrossEntropyLoss()"
   ],
   "metadata": {
    "collapsed": false,
    "ExecuteTime": {
     "end_time": "2023-12-01T10:53:46.331723200Z",
     "start_time": "2023-12-01T10:53:46.289725500Z"
    }
   },
   "id": "59467a0864c1d81c"
  },
  {
   "cell_type": "code",
   "execution_count": 19,
   "outputs": [
    {
     "name": "stdout",
     "output_type": "stream",
     "text": [
      "epoch: 0\n",
      " - loss: 2.0237977504730225\n",
      "epoch: 1\n",
      " - loss: 1.8233647346496582\n",
      "epoch: 2\n",
      " - loss: 1.9695730209350586\n",
      "epoch: 3\n",
      " - loss: 1.8522709608078003\n",
      "epoch: 4\n",
      " - loss: 1.883894920349121\n",
      "epoch: 5\n",
      " - loss: 1.7341499328613281\n",
      "epoch: 6\n",
      " - loss: 1.7596352100372314\n",
      "epoch: 7\n",
      " - loss: 1.784596562385559\n",
      "epoch: 8\n",
      " - loss: 1.7237173318862915\n",
      "epoch: 9\n",
      " - loss: 1.7634423971176147\n",
      "epoch: 10\n",
      " - loss: 1.7899709939956665\n",
      "epoch: 11\n",
      " - loss: 1.8485053777694702\n",
      "epoch: 12\n",
      " - loss: 1.630255937576294\n",
      "epoch: 13\n",
      " - loss: 1.8159408569335938\n",
      "epoch: 14\n",
      " - loss: 1.5559672117233276\n",
      "epoch: 15\n",
      " - loss: 1.5654605627059937\n",
      "epoch: 16\n",
      " - loss: 1.6616623401641846\n",
      "epoch: 17\n",
      " - loss: 1.3852523565292358\n",
      "epoch: 18\n",
      " - loss: 1.6419684886932373\n",
      "epoch: 19\n",
      " - loss: 1.4621586799621582\n",
      "epoch: 20\n",
      " - loss: 1.6896133422851562\n",
      "epoch: 21\n",
      " - loss: 1.5811569690704346\n",
      "epoch: 22\n",
      " - loss: 1.5635830163955688\n",
      "epoch: 23\n",
      " - loss: 1.5557551383972168\n",
      "epoch: 24\n",
      " - loss: 1.6582225561141968\n",
      "epoch: 25\n",
      " - loss: 1.5716897249221802\n",
      "epoch: 26\n",
      " - loss: 1.5856877565383911\n",
      "epoch: 27\n",
      " - loss: 1.438145399093628\n",
      "epoch: 28\n",
      " - loss: 1.5283465385437012\n",
      "epoch: 29\n",
      " - loss: 1.493994951248169\n",
      "epoch: 30\n",
      " - loss: 1.7129735946655273\n",
      "epoch: 31\n",
      " - loss: 1.5490437746047974\n",
      "epoch: 32\n",
      " - loss: 1.456885576248169\n",
      "epoch: 33\n",
      " - loss: 1.6524951457977295\n",
      "epoch: 34\n",
      " - loss: 1.4797512292861938\n",
      "epoch: 35\n",
      " - loss: 1.6478631496429443\n",
      "epoch: 36\n",
      " - loss: 1.3328381776809692\n",
      "epoch: 37\n",
      " - loss: 1.57566499710083\n",
      "epoch: 38\n",
      " - loss: 1.4675133228302002\n",
      "epoch: 39\n",
      " - loss: 1.2733454704284668\n",
      "epoch: 40\n",
      " - loss: 1.4713165760040283\n",
      "epoch: 41\n",
      " - loss: 1.5002682209014893\n",
      "epoch: 42\n",
      " - loss: 1.479519248008728\n",
      "epoch: 43\n",
      " - loss: 1.4061651229858398\n",
      "epoch: 44\n",
      " - loss: 1.594395637512207\n",
      "epoch: 45\n",
      " - loss: 1.5782088041305542\n",
      "epoch: 46\n",
      " - loss: 1.4901243448257446\n",
      "epoch: 47\n",
      " - loss: 1.5352214574813843\n",
      "epoch: 48\n",
      " - loss: 1.3291491270065308\n",
      "epoch: 49\n",
      " - loss: 1.2041780948638916\n",
      "epoch: 50\n",
      " - loss: 1.3213717937469482\n",
      "epoch: 51\n",
      " - loss: 1.5186570882797241\n",
      "epoch: 52\n",
      " - loss: 1.419661283493042\n",
      "epoch: 53\n",
      " - loss: 1.2207629680633545\n",
      "epoch: 54\n",
      " - loss: 1.3389455080032349\n",
      "epoch: 55\n",
      " - loss: 1.42488694190979\n",
      "epoch: 56\n",
      " - loss: 1.2071163654327393\n",
      "epoch: 57\n",
      " - loss: 1.3540291786193848\n",
      "epoch: 58\n",
      " - loss: 1.3042315244674683\n",
      "epoch: 59\n",
      " - loss: 1.2390851974487305\n",
      "epoch: 60\n",
      " - loss: 1.1842873096466064\n",
      "epoch: 61\n",
      " - loss: 1.3161859512329102\n",
      "epoch: 62\n",
      " - loss: 1.315761685371399\n",
      "epoch: 63\n",
      " - loss: 1.440914511680603\n",
      "epoch: 64\n",
      " - loss: 1.4575412273406982\n",
      "epoch: 65\n",
      " - loss: 1.3674302101135254\n",
      "epoch: 66\n",
      " - loss: 1.2575633525848389\n",
      "epoch: 67\n",
      " - loss: 1.1210299730300903\n",
      "epoch: 68\n",
      " - loss: 1.2510972023010254\n",
      "epoch: 69\n",
      " - loss: 1.2320294380187988\n",
      "epoch: 70\n",
      " - loss: 1.2014429569244385\n",
      "epoch: 71\n",
      " - loss: 1.3202769756317139\n",
      "epoch: 72\n",
      " - loss: 1.2184839248657227\n",
      "epoch: 73\n",
      " - loss: 1.2594919204711914\n",
      "epoch: 74\n",
      " - loss: 1.3266820907592773\n",
      "epoch: 75\n",
      " - loss: 1.3335938453674316\n",
      "epoch: 76\n",
      " - loss: 1.2353981733322144\n",
      "epoch: 77\n",
      " - loss: 1.4729536771774292\n",
      "epoch: 78\n",
      " - loss: 1.3220716714859009\n",
      "epoch: 79\n",
      " - loss: 1.1927099227905273\n",
      "epoch: 80\n",
      " - loss: 1.4700742959976196\n",
      "epoch: 81\n",
      " - loss: 1.2287300825119019\n",
      "epoch: 82\n",
      " - loss: 1.2247169017791748\n",
      "epoch: 83\n",
      " - loss: 1.3005990982055664\n",
      "epoch: 84\n",
      " - loss: 1.2874023914337158\n",
      "epoch: 85\n",
      " - loss: 1.1191232204437256\n",
      "epoch: 86\n",
      " - loss: 1.273921251296997\n",
      "epoch: 87\n",
      " - loss: 1.2156883478164673\n",
      "epoch: 88\n",
      " - loss: 1.2207624912261963\n",
      "epoch: 89\n",
      " - loss: 1.3277300596237183\n",
      "epoch: 90\n",
      " - loss: 1.1395313739776611\n",
      "epoch: 91\n",
      " - loss: 1.3153986930847168\n",
      "epoch: 92\n",
      " - loss: 1.3250483274459839\n",
      "epoch: 93\n",
      " - loss: 1.2659536600112915\n",
      "epoch: 94\n",
      " - loss: 0.9884514808654785\n",
      "epoch: 95\n",
      " - loss: 1.2448692321777344\n",
      "epoch: 96\n",
      " - loss: 0.9572433233261108\n",
      "epoch: 97\n",
      " - loss: 1.3141692876815796\n",
      "epoch: 98\n",
      " - loss: 1.1824688911437988\n",
      "epoch: 99\n",
      " - loss: 1.1811691522598267\n",
      "epoch: 100\n",
      " - loss: 1.1925556659698486\n",
      "epoch: 101\n",
      " - loss: 1.1580177545547485\n",
      "epoch: 102\n",
      " - loss: 1.312592625617981\n",
      "epoch: 103\n",
      " - loss: 1.0013177394866943\n",
      "epoch: 104\n",
      " - loss: 1.1324926614761353\n",
      "epoch: 105\n",
      " - loss: 0.9858535528182983\n",
      "epoch: 106\n",
      " - loss: 1.183758020401001\n",
      "epoch: 107\n",
      " - loss: 1.2251588106155396\n",
      "epoch: 108\n",
      " - loss: 1.181780457496643\n",
      "epoch: 109\n",
      " - loss: 1.0976288318634033\n",
      "epoch: 110\n",
      " - loss: 1.0702089071273804\n",
      "epoch: 111\n",
      " - loss: 1.3510637283325195\n",
      "epoch: 112\n",
      " - loss: 0.9793028235435486\n",
      "epoch: 113\n",
      " - loss: 1.0045709609985352\n",
      "epoch: 114\n",
      " - loss: 0.7868204712867737\n",
      "epoch: 115\n",
      " - loss: 0.979712724685669\n",
      "epoch: 116\n",
      " - loss: 0.9664151072502136\n",
      "epoch: 117\n",
      " - loss: 0.9098526835441589\n",
      "epoch: 118\n",
      " - loss: 1.2571215629577637\n",
      "epoch: 119\n",
      " - loss: 1.155300259590149\n",
      "epoch: 120\n",
      " - loss: 0.9458491802215576\n",
      "epoch: 121\n",
      " - loss: 1.0741442441940308\n",
      "epoch: 122\n",
      " - loss: 1.040100336074829\n",
      "epoch: 123\n",
      " - loss: 1.1580424308776855\n",
      "epoch: 124\n",
      " - loss: 1.18058180809021\n",
      "epoch: 125\n",
      " - loss: 1.0557146072387695\n",
      "epoch: 126\n",
      " - loss: 1.1446540355682373\n",
      "epoch: 127\n",
      " - loss: 0.8686172962188721\n",
      "epoch: 128\n",
      " - loss: 1.1319775581359863\n",
      "epoch: 129\n",
      " - loss: 1.0770678520202637\n",
      "epoch: 130\n",
      " - loss: 1.088033676147461\n",
      "epoch: 131\n",
      " - loss: 0.956116795539856\n",
      "epoch: 132\n",
      " - loss: 0.819242000579834\n",
      "epoch: 133\n",
      " - loss: 1.2122503519058228\n",
      "epoch: 134\n",
      " - loss: 0.956220269203186\n",
      "epoch: 135\n",
      " - loss: 1.0232840776443481\n",
      "epoch: 136\n",
      " - loss: 1.0949714183807373\n",
      "epoch: 137\n",
      " - loss: 0.858661949634552\n",
      "epoch: 138\n",
      " - loss: 1.053962230682373\n",
      "epoch: 139\n",
      " - loss: 1.049337387084961\n",
      "epoch: 140\n",
      " - loss: 1.0505470037460327\n",
      "epoch: 141\n",
      " - loss: 1.097899317741394\n",
      "epoch: 142\n",
      " - loss: 0.9815263152122498\n",
      "epoch: 143\n",
      " - loss: 0.8948468565940857\n",
      "epoch: 144\n",
      " - loss: 1.0336103439331055\n",
      "epoch: 145\n",
      " - loss: 0.863555908203125\n",
      "epoch: 146\n",
      " - loss: 1.0005046129226685\n",
      "epoch: 147\n",
      " - loss: 0.9105232954025269\n",
      "epoch: 148\n",
      " - loss: 0.9278542399406433\n",
      "epoch: 149\n",
      " - loss: 0.9187126159667969\n",
      "epoch: 150\n",
      " - loss: 0.8368012309074402\n",
      "epoch: 151\n",
      " - loss: 0.7874798774719238\n",
      "epoch: 152\n",
      " - loss: 1.0354386568069458\n",
      "epoch: 153\n",
      " - loss: 0.9871606230735779\n",
      "epoch: 154\n",
      " - loss: 0.9648220539093018\n",
      "epoch: 155\n",
      " - loss: 0.6797024011611938\n",
      "epoch: 156\n",
      " - loss: 0.8777672648429871\n",
      "epoch: 157\n",
      " - loss: 0.6544492244720459\n",
      "epoch: 158\n",
      " - loss: 0.8263367414474487\n",
      "epoch: 159\n",
      " - loss: 1.1692359447479248\n"
     ]
    }
   ],
   "source": [
    "for epoch in range(160):\n",
    "    iteration = 0\n",
    "    total_loss = 0\n",
    "    print(\"epoch:\", epoch)\n",
    "    for batch in data_loader:\n",
    "        iteration = 0\n",
    "        total_loss = 0\n",
    "        batch_data = batch[0].to(device)\n",
    "        batch_labels = batch[1].to(device)\n",
    "\n",
    "        optimizer.zero_grad()\n",
    "        pred = model(batch_data)\n",
    "        loss = loss_fn(pred, batch_labels)\n",
    "        loss.backward()\n",
    "        optimizer.step()\n",
    "\n",
    "        total_loss += loss\n",
    "        iteration += 1\n",
    "\n",
    "    scheduler.step()\n",
    "    print(\" - loss:\", total_loss.item() / iteration)"
   ],
   "metadata": {
    "collapsed": false,
    "ExecuteTime": {
     "end_time": "2023-12-01T11:35:01.026101400Z",
     "start_time": "2023-12-01T10:53:46.303725400Z"
    }
   },
   "id": "cb530baee34620f4"
  },
  {
   "cell_type": "code",
   "execution_count": 21,
   "outputs": [
    {
     "name": "stdout",
     "output_type": "stream",
     "text": [
      "67.22 %\n"
     ]
    }
   ],
   "source": [
    "correct = 0\n",
    "total = 0\n",
    "\n",
    "with torch.no_grad():\n",
    "    for data in test_loader:\n",
    "        images, labels = data\n",
    "        images = images.to(device)\n",
    "        labels = labels.to(device)\n",
    "        outputs = model(images)\n",
    "\n",
    "        _, predicted = torch.max(outputs.data, 1)\n",
    "        total += labels.size(0)\n",
    "        correct += (predicted == labels).sum().item()\n",
    "\n",
    "print(100 * correct / total, \"%\")"
   ],
   "metadata": {
    "collapsed": false,
    "ExecuteTime": {
     "end_time": "2023-12-01T11:35:02.368262600Z",
     "start_time": "2023-12-01T11:35:01.043101Z"
    }
   },
   "id": "785a6df7cf23bddb"
  },
  {
   "cell_type": "code",
   "execution_count": 22,
   "outputs": [
    {
     "name": "stdout",
     "output_type": "stream",
     "text": [
      "automobile truck deer dog dog frog dog truck horse truck automobile dog ship deer deer truck "
     ]
    },
    {
     "data": {
      "text/plain": "<matplotlib.image.AxesImage at 0x1c9076b8df0>"
     },
     "execution_count": 22,
     "metadata": {},
     "output_type": "execute_result"
    },
    {
     "data": {
      "text/plain": "<Figure size 800x800 with 1 Axes>",
      "image/png": "[encoded data removed]"
     },
     "metadata": {},
     "output_type": "display_data"
    }
   ],
   "source": [
    "d = next(iter(test_loader))[0][:16].to(device)\n",
    "\n",
    "classification = torch.argmax(model(d), 1)\n",
    "\n",
    "for c in classification:\n",
    "    print(classes[c], end=\" \")\n",
    "\n",
    "step = 4\n",
    "plt.figure(figsize=(8, 8))\n",
    "plt.axis(\"off\")\n",
    "plt.imshow(\n",
    "    (\n",
    "        vutils.make_grid(d, nrow=4, padding=1, normalize=True)\n",
    "        .permute(1, 2, 0)\n",
    "        .detach()\n",
    "        .cpu()\n",
    "        .numpy()\n",
    "    )\n",
    ")"
   ],
   "metadata": {
    "collapsed": false,
    "ExecuteTime": {
     "end_time": "2023-12-01T11:35:02.453260900Z",
     "start_time": "2023-12-01T11:35:02.370262800Z"
    }
   },
   "id": "6fd2ac6a5ab13d3"
  },
  {
   "cell_type": "code",
   "execution_count": 22,
   "outputs": [],
   "source": [],
   "metadata": {
    "collapsed": false,
    "ExecuteTime": {
     "end_time": "2023-12-01T11:35:02.492259200Z",
     "start_time": "2023-12-01T11:35:02.447261400Z"
    }
   },
   "id": "ee75a18f87960a2d"
  }
 ],
 "metadata": {
  "kernelspec": {
   "display_name": "Python 3",
   "language": "python",
   "name": "python3"
  },
  "language_info": {
   "codemirror_mode": {
    "name": "ipython",
    "version": 2
   },
   "file_extension": ".py",
   "mimetype": "text/x-python",
   "name": "python",
   "nbconvert_exporter": "python",
   "pygments_lexer": "ipython2",
   "version": "2.7.6"
  }
 },
 "nbformat": 4,
 "nbformat_minor": 5
}
