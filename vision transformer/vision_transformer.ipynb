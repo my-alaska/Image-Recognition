{
 "cells": [
  {
   "cell_type": "code",
   "execution_count": 57,
   "id": "initial_id",
   "metadata": {
    "collapsed": true,
    "ExecuteTime": {
     "end_time": "2023-11-27T13:00:53.191893700Z",
     "start_time": "2023-11-27T13:00:53.175894400Z"
    }
   },
   "outputs": [],
   "source": [
    "from torchvision.datasets import CIFAR10\n",
    "import torchvision.transforms as transforms\n",
    "import torch as torch\n",
    "import os\n",
    "import matplotlib.pyplot as plt"
   ]
  },
  {
   "cell_type": "code",
   "execution_count": 58,
   "outputs": [],
   "source": [
    "if torch.cuda.is_available():\n",
    "    cuda_id = torch.cuda.current_device()\n",
    "    device_name = torch.cuda.get_device_name(cuda_id)\n",
    "    device = \"cuda:0\"\n",
    "else:\n",
    "    device = \"cpu\""
   ],
   "metadata": {
    "collapsed": false,
    "ExecuteTime": {
     "end_time": "2023-11-27T13:00:53.420878200Z",
     "start_time": "2023-11-27T13:00:53.392879900Z"
    }
   },
   "id": "e8a100858fc8b50b"
  },
  {
   "cell_type": "markdown",
   "source": [
    "### Download and preparethe data\n",
    "\n",
    "We'll use the CIFAR10 dataset"
   ],
   "metadata": {
    "collapsed": false
   },
   "id": "f51fdad69ce1e7a6"
  },
  {
   "cell_type": "code",
   "execution_count": 61,
   "outputs": [
    {
     "name": "stdout",
     "output_type": "stream",
     "text": [
      "Files already downloaded and verified\n"
     ]
    }
   ],
   "source": [
    "# download and augment the training dataset\n",
    "if not os.path.exists(\"./data\"):\n",
    "    os.mkdir(\"./data\")\n",
    "\n",
    "data = CIFAR10(\n",
    "    root=\"./data\",\n",
    "    train=True,\n",
    "    transform=transforms.Compose(\n",
    "        [\n",
    "            transforms.RandomHorizontalFlip(),\n",
    "            transforms.RandomResizedCrop(size=32, ratio=(0.9, 1.1)),\n",
    "            transforms.ToTensor(),\n",
    "            transforms.Normalize(0, 1),\n",
    "        ]\n",
    "    ),\n",
    "    download=True,\n",
    ")"
   ],
   "metadata": {
    "collapsed": false,
    "ExecuteTime": {
     "end_time": "2023-11-27T13:01:00.275436Z",
     "start_time": "2023-11-27T13:00:59.657783200Z"
    }
   },
   "id": "8ddb240309e17171"
  },
  {
   "cell_type": "code",
   "execution_count": 62,
   "outputs": [
    {
     "data": {
      "text/plain": "torch.Size([3, 32, 32])"
     },
     "execution_count": 62,
     "metadata": {},
     "output_type": "execute_result"
    }
   ],
   "source": [
    "data[0][0].shape"
   ],
   "metadata": {
    "collapsed": false,
    "ExecuteTime": {
     "end_time": "2023-11-27T13:01:00.296435200Z",
     "start_time": "2023-11-27T13:01:00.276435600Z"
    }
   },
   "id": "12754b00d608de26"
  },
  {
   "cell_type": "code",
   "execution_count": 63,
   "outputs": [],
   "source": [
    "def display(image, size=10):\n",
    "    image = image[0].permute((1, 2, 0))\n",
    "    plt.figure(figsize=(size, size))\n",
    "    plt.axis(\"off\")\n",
    "    plt.imshow(image)\n",
    "    plt.show()"
   ],
   "metadata": {
    "collapsed": false,
    "ExecuteTime": {
     "end_time": "2023-11-27T13:01:02.068133700Z",
     "start_time": "2023-11-27T13:01:02.058124300Z"
    }
   },
   "id": "f6403a2595f0aea8"
  },
  {
   "cell_type": "code",
   "execution_count": 68,
   "outputs": [
    {
     "data": {
      "text/plain": "<Figure size 1000x1000 with 1 Axes>",
      "image/png": "[encoded data removed]"
     },
     "metadata": {},
     "output_type": "display_data"
    }
   ],
   "source": [
    "display(data[0])"
   ],
   "metadata": {
    "collapsed": false,
    "ExecuteTime": {
     "end_time": "2023-11-27T13:01:39.653249700Z",
     "start_time": "2023-11-27T13:01:39.583253800Z"
    }
   },
   "id": "a4afd47e4a9744bb"
  },
  {
   "cell_type": "code",
   "execution_count": null,
   "outputs": [],
   "source": [],
   "metadata": {
    "collapsed": false
   },
   "id": "c3184ab7f278ffe3"
  }
 ],
 "metadata": {
  "kernelspec": {
   "display_name": "Python 3",
   "language": "python",
   "name": "python3"
  },
  "language_info": {
   "codemirror_mode": {
    "name": "ipython",
    "version": 2
   },
   "file_extension": ".py",
   "mimetype": "text/x-python",
   "name": "python",
   "nbconvert_exporter": "python",
   "pygments_lexer": "ipython2",
   "version": "2.7.6"
  }
 },
 "nbformat": 4,
 "nbformat_minor": 5
}
