{
 "cells": [
  {
   "cell_type": "code",
   "execution_count": 1,
   "id": "initial_id",
   "metadata": {
    "collapsed": true,
    "ExecuteTime": {
     "end_time": "2023-11-29T17:37:05.762345Z",
     "start_time": "2023-11-29T17:37:04.759299600Z"
    }
   },
   "outputs": [],
   "source": [
    "import torch as torch"
   ]
  },
  {
   "cell_type": "code",
   "execution_count": 2,
   "outputs": [],
   "source": [
    "if torch.cuda.is_available():\n",
    "    cuda_id = torch.cuda.current_device()\n",
    "    device_name = torch.cuda.get_device_name(cuda_id)\n",
    "    device = \"cuda:0\"\n",
    "else:\n",
    "    device = \"cpu\""
   ],
   "metadata": {
    "collapsed": false,
    "ExecuteTime": {
     "end_time": "2023-11-29T17:37:05.796345400Z",
     "start_time": "2023-11-29T17:37:05.789573300Z"
    }
   },
   "id": "e8a100858fc8b50b"
  },
  {
   "cell_type": "markdown",
   "source": [
    "### Download and preparethe data\n",
    "\n",
    "We'll use the CIFAR10 dataset"
   ],
   "metadata": {
    "collapsed": false
   },
   "id": "f51fdad69ce1e7a6"
  },
  {
   "cell_type": "code",
   "execution_count": 3,
   "outputs": [],
   "source": [
    "import os\n",
    "from torchvision.datasets import CIFAR10\n",
    "import torchvision.transforms as transforms\n",
    "from torch.utils.data import DataLoader"
   ],
   "metadata": {
    "collapsed": false,
    "ExecuteTime": {
     "end_time": "2023-11-29T17:37:06.136949400Z",
     "start_time": "2023-11-29T17:37:05.794345400Z"
    }
   },
   "id": "86e29a36b84c2248"
  },
  {
   "cell_type": "code",
   "execution_count": 4,
   "outputs": [],
   "source": [
    "batch_size = 100"
   ],
   "metadata": {
    "collapsed": false,
    "ExecuteTime": {
     "end_time": "2023-11-29T17:37:06.150949700Z",
     "start_time": "2023-11-29T17:37:06.129950100Z"
    }
   },
   "id": "bf8b0e5f6d01c396"
  },
  {
   "cell_type": "code",
   "execution_count": 5,
   "outputs": [
    {
     "name": "stdout",
     "output_type": "stream",
     "text": [
      "Files already downloaded and verified\n",
      "Files already downloaded and verified\n"
     ]
    }
   ],
   "source": [
    "# download and augment the training dataset\n",
    "if not os.path.exists(\"./data\"):\n",
    "    os.mkdir(\"./data\")\n",
    "\n",
    "data = CIFAR10(\n",
    "    root=\"./data\",\n",
    "    train=True,\n",
    "    transform=transforms.Compose(\n",
    "        [\n",
    "            transforms.RandomHorizontalFlip(),\n",
    "            transforms.RandomResizedCrop(size=32, ratio=(0.9, 1.1)),\n",
    "            transforms.ToTensor(),\n",
    "            transforms.Normalize(0, 1),\n",
    "        ]\n",
    "    ),\n",
    "    download=True,\n",
    ")\n",
    "\n",
    "data_loader = DataLoader(data, batch_size=batch_size, shuffle=True)\n",
    "\n",
    "test_data = CIFAR10(\n",
    "    root=\"./data\",\n",
    "    train=False,\n",
    "    transform=transforms.Compose(\n",
    "        [\n",
    "            transforms.ToTensor(),\n",
    "            transforms.Normalize(0, 1),\n",
    "        ]\n",
    "    ),\n",
    "    download=True,\n",
    ")\n",
    "test_loader = DataLoader(data, batch_size=batch_size, shuffle=True)"
   ],
   "metadata": {
    "collapsed": false,
    "ExecuteTime": {
     "end_time": "2023-11-29T17:37:07.242548500Z",
     "start_time": "2023-11-29T17:37:06.145949300Z"
    }
   },
   "id": "8ddb240309e17171"
  },
  {
   "cell_type": "code",
   "execution_count": 6,
   "outputs": [
    {
     "data": {
      "text/plain": "['airplane',\n 'automobile',\n 'bird',\n 'cat',\n 'deer',\n 'dog',\n 'frog',\n 'horse',\n 'ship',\n 'truck']"
     },
     "execution_count": 6,
     "metadata": {},
     "output_type": "execute_result"
    }
   ],
   "source": [
    "classes = data.classes\n",
    "classes"
   ],
   "metadata": {
    "collapsed": false,
    "ExecuteTime": {
     "end_time": "2023-11-29T17:37:07.244549100Z",
     "start_time": "2023-11-29T17:37:07.212549600Z"
    }
   },
   "id": "a2cc10088ac10168"
  },
  {
   "cell_type": "markdown",
   "source": [
    "### Print out an example image"
   ],
   "metadata": {
    "collapsed": false
   },
   "id": "d2277894ab71e829"
  },
  {
   "cell_type": "code",
   "execution_count": 7,
   "outputs": [],
   "source": [
    "import matplotlib.pyplot as plt"
   ],
   "metadata": {
    "collapsed": false,
    "ExecuteTime": {
     "end_time": "2023-11-29T17:37:07.450549200Z",
     "start_time": "2023-11-29T17:37:07.228549400Z"
    }
   },
   "id": "4b0b70f16ea958b1"
  },
  {
   "cell_type": "code",
   "execution_count": 8,
   "outputs": [],
   "source": [
    "def display(image, size=8):\n",
    "    print(image[0].shape)\n",
    "    image = image[0].permute((1, 2, 0))\n",
    "    plt.figure(figsize=(size, size))\n",
    "    plt.axis(\"off\")\n",
    "    plt.imshow(image)\n",
    "    plt.show()"
   ],
   "metadata": {
    "collapsed": false,
    "ExecuteTime": {
     "end_time": "2023-11-29T17:37:07.465549100Z",
     "start_time": "2023-11-29T17:37:07.451549200Z"
    }
   },
   "id": "f6403a2595f0aea8"
  },
  {
   "cell_type": "code",
   "execution_count": 9,
   "outputs": [
    {
     "name": "stdout",
     "output_type": "stream",
     "text": [
      "torch.Size([3, 32, 32])\n"
     ]
    },
    {
     "data": {
      "text/plain": "<Figure size 800x800 with 1 Axes>",
      "image/png": "[encoded data removed]"
     },
     "metadata": {},
     "output_type": "display_data"
    }
   ],
   "source": [
    "display(data[14])"
   ],
   "metadata": {
    "collapsed": false,
    "ExecuteTime": {
     "end_time": "2023-11-29T17:37:07.516548900Z",
     "start_time": "2023-11-29T17:37:07.467549700Z"
    }
   },
   "id": "eaed33a246824db1"
  },
  {
   "cell_type": "markdown",
   "source": [
    "### Split a batch of data into batch of patches"
   ],
   "metadata": {
    "collapsed": false
   },
   "id": "465cffcc2714f724"
  },
  {
   "cell_type": "code",
   "execution_count": 10,
   "outputs": [],
   "source": [
    "import torchvision.utils as vutils"
   ],
   "metadata": {
    "collapsed": false,
    "ExecuteTime": {
     "end_time": "2023-11-29T17:37:07.527549300Z",
     "start_time": "2023-11-29T17:37:07.512549600Z"
    }
   },
   "id": "369ba5d45a1b4be"
  },
  {
   "cell_type": "code",
   "execution_count": 11,
   "outputs": [],
   "source": [
    "def batch_patch(tensor, step=4):\n",
    "    if len(tensor.shape) == 3:\n",
    "        return (\n",
    "            tensor.unfold(0, 3, 3)\n",
    "            .unfold(1, step, step)\n",
    "            .unfold(2, step, step)\n",
    "            .flatten(start_dim=0, end_dim=2)\n",
    "        )\n",
    "    return (\n",
    "        tensor.unfold(1, 3, 3)\n",
    "        .unfold(2, step, step)\n",
    "        .unfold(3, step, step)\n",
    "        .squeeze()\n",
    "        .flatten(start_dim=1, end_dim=2)\n",
    "    )"
   ],
   "metadata": {
    "collapsed": false,
    "ExecuteTime": {
     "end_time": "2023-11-29T17:37:07.558549100Z",
     "start_time": "2023-11-29T17:37:07.529549500Z"
    }
   },
   "id": "fc9a852d8ac38345"
  },
  {
   "cell_type": "code",
   "execution_count": 12,
   "outputs": [
    {
     "name": "stdout",
     "output_type": "stream",
     "text": [
      "torch.Size([100, 3, 32, 32])\n"
     ]
    },
    {
     "data": {
      "text/plain": "<matplotlib.image.AxesImage at 0x23d0a3e4af0>"
     },
     "execution_count": 12,
     "metadata": {},
     "output_type": "execute_result"
    },
    {
     "data": {
      "text/plain": "<Figure size 800x800 with 1 Axes>",
      "image/png": "[encoded data removed]"
     },
     "metadata": {},
     "output_type": "display_data"
    }
   ],
   "source": [
    "d = next(iter(data_loader))[0]\n",
    "print(d.shape)\n",
    "\n",
    "step = 4\n",
    "plt.figure(figsize=(8, 8))\n",
    "plt.axis(\"off\")\n",
    "plt.imshow(\n",
    "    (\n",
    "        vutils.make_grid(\n",
    "            batch_patch(d, step)[0], nrow=32 // step, padding=1, normalize=True\n",
    "        )\n",
    "        .permute(1, 2, 0)\n",
    "        .detach()\n",
    "        .cpu()\n",
    "        .numpy()\n",
    "    )\n",
    ")"
   ],
   "metadata": {
    "collapsed": false,
    "ExecuteTime": {
     "end_time": "2023-11-29T17:37:07.664548900Z",
     "start_time": "2023-11-29T17:37:07.546549300Z"
    }
   },
   "id": "6d34b5fd5ea80488"
  },
  {
   "cell_type": "markdown",
   "source": [
    "### Implement the model"
   ],
   "metadata": {
    "collapsed": false
   },
   "id": "e62f272b295fbb17"
  },
  {
   "cell_type": "code",
   "execution_count": 13,
   "outputs": [],
   "source": [
    "import torch.nn as nn"
   ],
   "metadata": {
    "collapsed": false,
    "ExecuteTime": {
     "end_time": "2023-11-29T17:37:07.664548900Z",
     "start_time": "2023-11-29T17:37:07.640549400Z"
    }
   },
   "id": "4367f5eb69f307e4"
  },
  {
   "cell_type": "markdown",
   "source": [
    "First implement the learnable positional encoding layer - it was used in DDPM lab"
   ],
   "metadata": {
    "collapsed": false
   },
   "id": "f785d80b1d212b0b"
  },
  {
   "cell_type": "code",
   "execution_count": 14,
   "outputs": [],
   "source": [
    "# class PositionalEncoding(nn.Module):\n",
    "#     def __init__(self, input_size=65, d=25, n=10000, output_size=256):\n",
    "#         super(PositionalEncoding, self).__init__()\n",
    "#         denominator = torch.pow(n, torch.arange(d) / d)\n",
    "#         numerator = torch.arange(input_size).reshape(-1, 1)\n",
    "#         self.inputs = torch.concat(\n",
    "#             [torch.sin(numerator / denominator), torch.cos(numerator / denominator)], 1\n",
    "#         ).to(device)\n",
    "#         self.network = nn.Sequential(\n",
    "#             nn.Linear(2 * d, out_features=output_size),\n",
    "#             nn.ReLU(inplace=True),\n",
    "#             nn.Linear(in_features=output_size, out_features=output_size),\n",
    "#         )\n",
    "# \n",
    "#     def forward(self, k):\n",
    "#         return self.network(self.inputs[k])"
   ],
   "metadata": {
    "collapsed": false,
    "ExecuteTime": {
     "end_time": "2023-11-29T17:37:07.677549500Z",
     "start_time": "2023-11-29T17:37:07.657549200Z"
    }
   },
   "id": "a1b0a49648cf48b0"
  },
  {
   "cell_type": "markdown",
   "source": [
    "Implement a transformer block - We'll need a few of them so it's easier to make a separate class"
   ],
   "metadata": {
    "collapsed": false
   },
   "id": "b3349943544c2b8f"
  },
  {
   "cell_type": "code",
   "execution_count": 15,
   "outputs": [],
   "source": [
    "class TransformerBlock(nn.Module):\n",
    "    def __init__(self, n_dims=256, n_heads=8):\n",
    "        super(TransformerBlock, self).__init__()\n",
    "        self.norm = nn.LayerNorm(n_dims)\n",
    "        self.attention = nn.MultiheadAttention(n_dims, n_heads)\n",
    "        self.network = nn.Sequential(\n",
    "            nn.LayerNorm(n_dims),\n",
    "            nn.Linear(n_dims, 2 * n_dims),\n",
    "            nn.GELU(),\n",
    "            nn.Dropout(0.2),\n",
    "            nn.Linear(2 * n_dims, n_dims),\n",
    "            nn.Dropout(0.2),\n",
    "        )\n",
    "\n",
    "    def forward(self, tr_input):\n",
    "        residual = tr_input\n",
    "        out = self.norm(tr_input)\n",
    "        out = self.attention(out, out, out)[0] \n",
    "        out += residual\n",
    "        residual2 = out\n",
    "        out = self.network(out)\n",
    "        out += residual2\n",
    "        return out"
   ],
   "metadata": {
    "collapsed": false,
    "ExecuteTime": {
     "end_time": "2023-11-29T17:37:07.696548700Z",
     "start_time": "2023-11-29T17:37:07.673548800Z"
    }
   },
   "id": "a0c0b2525e1a83cc"
  },
  {
   "cell_type": "markdown",
   "source": [
    "Whole model"
   ],
   "metadata": {
    "collapsed": false
   },
   "id": "8cd89879c2ced40b"
  },
  {
   "cell_type": "code",
   "execution_count": 16,
   "outputs": [],
   "source": [
    "class VisionTransformerModel(nn.Module):\n",
    "    def __init__(self, n_classes, patch_size=4, im_size=32, n_dims=256):\n",
    "        super(VisionTransformerModel, self).__init__()\n",
    "        self.patch_size = patch_size\n",
    "        self.token = torch.rand(n_dims, dtype=torch.float32,requires_grad=True,device=device)\n",
    "        self.positional_vector = torch.rand(((im_size // patch_size) ** 2 + 1, n_dims),requires_grad=True,device=device)\n",
    "        self.patch_flatten = nn.Flatten(start_dim=-3)\n",
    "        self.embed = nn.Linear(3 * patch_size**2, n_dims)\n",
    "        self.dropout1 = nn.Dropout(0.2)\n",
    "        self.transformers = nn.TransformerEncoder(\n",
    "            nn.TransformerEncoderLayer(\n",
    "                d_model=n_dims,\n",
    "                nhead=8,\n",
    "                dim_feedforward=2*n_dims,\n",
    "                dropout=0.2,\n",
    "                activation=\"gelu\",\n",
    "                norm_first=True,\n",
    "                batch_first=True\n",
    "            ),\n",
    "            6\n",
    "        )\n",
    "        # self.transformers = nn.Sequential(\n",
    "        #     TransformerBlock(n_dims=n_dims),\n",
    "        #     TransformerBlock(n_dims=n_dims),\n",
    "        #     TransformerBlock(n_dims=n_dims),\n",
    "        #     TransformerBlock(n_dims=n_dims),\n",
    "        #     TransformerBlock(n_dims=n_dims),\n",
    "        #     TransformerBlock(n_dims=n_dims),\n",
    "        # ).to(device)\n",
    "        self.normalization = nn.LayerNorm(n_dims)\n",
    "        self.MLP = nn.Linear(n_dims, n_classes)\n",
    "\n",
    "    def forward(self, img):\n",
    "        patched = batch_patch(img, self.patch_size)\n",
    "        \n",
    "        flattened = self.patch_flatten(patched)\n",
    "        embedded = self.embed(flattened)\n",
    "\n",
    "        class_token = torch.ones(img.shape[0]).to(device).reshape(-1, 1, 1) * self.token\n",
    "        with_token = torch.concat([class_token, embedded], 1)\n",
    "\n",
    "        with_encode = with_token + self.positional_vector\n",
    "        \n",
    "        \n",
    "        after_dropout = self.dropout1(with_encode)\n",
    "        tr = self.transformers(after_dropout)[:, 0]\n",
    "        normalized = self.normalization(tr)\n",
    "        post_mlp = self.MLP(normalized)\n",
    "        return post_mlp"
   ],
   "metadata": {
    "collapsed": false,
    "ExecuteTime": {
     "end_time": "2023-11-29T17:37:07.708548800Z",
     "start_time": "2023-11-29T17:37:07.690549700Z"
    }
   },
   "id": "42d2eb72a01a9dd3"
  },
  {
   "cell_type": "markdown",
   "source": [
    "### Prepare the model for training"
   ],
   "metadata": {
    "collapsed": false
   },
   "id": "3379bcd0be342b6a"
  },
  {
   "cell_type": "code",
   "execution_count": 17,
   "outputs": [
    {
     "name": "stderr",
     "output_type": "stream",
     "text": [
      "C:\\Users\\piotr\\AppData\\Local\\Programs\\Python\\Python310\\lib\\site-packages\\torch\\nn\\modules\\transformer.py:282: UserWarning: enable_nested_tensor is True, but self.use_nested_tensor is False because encoder_layer.norm_first was True\n",
      "  warnings.warn(f\"enable_nested_tensor is True, but self.use_nested_tensor is False because {why_not_sparsity_fast_path}\")\n"
     ]
    }
   ],
   "source": [
    "model = VisionTransformerModel(len(data.classes)).to(device)"
   ],
   "metadata": {
    "collapsed": false,
    "ExecuteTime": {
     "end_time": "2023-11-29T17:37:08.631825200Z",
     "start_time": "2023-11-29T17:37:07.704549200Z"
    }
   },
   "id": "b9991d03b14aacff"
  },
  {
   "cell_type": "code",
   "execution_count": 18,
   "outputs": [
    {
     "data": {
      "text/plain": "'attached.png'"
     },
     "execution_count": 18,
     "metadata": {},
     "output_type": "execute_result"
    }
   ],
   "source": [
    "from torchviz import make_dot\n",
    "import torch\n",
    "from torch.autograd import Variable\n",
    "x = Variable(torch.rand((100,3,32,32)).to(device), requires_grad=True)\n",
    "y = model(x)\n",
    "\n",
    "make_dot(y).render(\"attached\", format=\"png\")"
   ],
   "metadata": {
    "collapsed": false,
    "ExecuteTime": {
     "end_time": "2023-11-29T17:37:09.791682900Z",
     "start_time": "2023-11-29T17:37:08.626362900Z"
    }
   },
   "id": "2a6e20c09c207772"
  },
  {
   "cell_type": "code",
   "execution_count": 19,
   "outputs": [],
   "source": [
    "params = [p for p in model.parameters()] + [model.token, model.positional_vector]\n",
    "optimizer = torch.optim.AdamW(params, lr=0.001, weight_decay=0.01)\n",
    "scheduler = torch.optim.lr_scheduler.MultiStepLR(optimizer, [x for x in range(10,16+10,10)], 0.8)\n",
    "loss_fn = torch.nn.CrossEntropyLoss()"
   ],
   "metadata": {
    "collapsed": false,
    "ExecuteTime": {
     "end_time": "2023-11-29T17:37:09.831683300Z",
     "start_time": "2023-11-29T17:37:09.785682900Z"
    }
   },
   "id": "59467a0864c1d81c"
  },
  {
   "cell_type": "code",
   "execution_count": 20,
   "outputs": [
    {
     "name": "stdout",
     "output_type": "stream",
     "text": [
      "epoch: 0\n",
      " - loss: 1.9523060321807861\n",
      "epoch: 1\n",
      " - loss: 1.913263201713562\n",
      "epoch: 2\n",
      " - loss: 1.9297338724136353\n",
      "epoch: 3\n",
      " - loss: 1.7933152914047241\n",
      "epoch: 4\n",
      " - loss: 1.8075439929962158\n",
      "epoch: 5\n",
      " - loss: 1.8064557313919067\n",
      "epoch: 6\n",
      " - loss: 1.7919929027557373\n",
      "epoch: 7\n",
      " - loss: 1.7563289403915405\n",
      "epoch: 8\n",
      " - loss: 1.7551106214523315\n",
      "epoch: 9\n",
      " - loss: 1.7133078575134277\n",
      "epoch: 10\n",
      " - loss: 1.5076807737350464\n",
      "epoch: 11\n",
      " - loss: 1.9000611305236816\n",
      "epoch: 12\n",
      " - loss: 1.6343863010406494\n",
      "epoch: 13\n",
      " - loss: 1.6621135473251343\n",
      "epoch: 14\n",
      " - loss: 1.629478096961975\n",
      "epoch: 15\n",
      " - loss: 1.6737557649612427\n",
      "epoch: 16\n",
      " - loss: 1.5422215461730957\n",
      "epoch: 17\n",
      " - loss: 1.673427700996399\n",
      "epoch: 18\n",
      " - loss: 1.7649115324020386\n",
      "epoch: 19\n",
      " - loss: 1.512068748474121\n",
      "epoch: 20\n",
      " - loss: 1.7145206928253174\n",
      "epoch: 21\n",
      " - loss: 1.5859516859054565\n",
      "epoch: 22\n",
      " - loss: 1.6530598402023315\n",
      "epoch: 23\n",
      " - loss: 1.6084794998168945\n",
      "epoch: 24\n",
      " - loss: 1.5878039598464966\n",
      "epoch: 25\n",
      " - loss: 1.5700575113296509\n",
      "epoch: 26\n",
      " - loss: 1.6030852794647217\n",
      "epoch: 27\n",
      " - loss: 1.4481505155563354\n",
      "epoch: 28\n",
      " - loss: 1.5665818452835083\n",
      "epoch: 29\n",
      " - loss: 1.618983268737793\n",
      "epoch: 30\n",
      " - loss: 1.3797316551208496\n",
      "epoch: 31\n",
      " - loss: 1.5004127025604248\n",
      "epoch: 32\n",
      " - loss: 1.5289373397827148\n",
      "epoch: 33\n",
      " - loss: 1.5282191038131714\n",
      "epoch: 34\n",
      " - loss: 1.508494257926941\n",
      "epoch: 35\n",
      " - loss: 1.6493629217147827\n",
      "epoch: 36\n",
      " - loss: 1.3136086463928223\n",
      "epoch: 37\n",
      " - loss: 1.5054047107696533\n",
      "epoch: 38\n",
      " - loss: 1.5100544691085815\n",
      "epoch: 39\n",
      " - loss: 1.4306799173355103\n",
      "epoch: 40\n",
      " - loss: 1.3892711400985718\n",
      "epoch: 41\n",
      " - loss: 1.4204329252243042\n",
      "epoch: 42\n",
      " - loss: 1.468379020690918\n",
      "epoch: 43\n",
      " - loss: 1.5322192907333374\n",
      "epoch: 44\n",
      " - loss: 1.2817566394805908\n",
      "epoch: 45\n",
      " - loss: 1.4003595113754272\n",
      "epoch: 46\n",
      " - loss: 1.4186254739761353\n",
      "epoch: 47\n",
      " - loss: 1.4617213010787964\n",
      "epoch: 48\n",
      " - loss: 1.4067081212997437\n",
      "epoch: 49\n",
      " - loss: 1.344807744026184\n",
      "epoch: 50\n",
      " - loss: 1.4803786277770996\n",
      "epoch: 51\n",
      " - loss: 1.523740291595459\n",
      "epoch: 52\n",
      " - loss: 1.432654619216919\n",
      "epoch: 53\n",
      " - loss: 1.3454207181930542\n",
      "epoch: 54\n",
      " - loss: 1.334181308746338\n",
      "epoch: 55\n",
      " - loss: 1.4243316650390625\n",
      "epoch: 56\n",
      " - loss: 1.3955562114715576\n",
      "epoch: 57\n",
      " - loss: 1.4560223817825317\n",
      "epoch: 58\n",
      " - loss: 1.2718318700790405\n",
      "epoch: 59\n",
      " - loss: 1.4438400268554688\n",
      "epoch: 60\n",
      " - loss: 1.2682695388793945\n",
      "epoch: 61\n",
      " - loss: 1.275237798690796\n",
      "epoch: 62\n",
      " - loss: 1.1618690490722656\n",
      "epoch: 63\n",
      " - loss: 1.3304728269577026\n",
      "epoch: 64\n",
      " - loss: 1.3294447660446167\n",
      "epoch: 65\n",
      " - loss: 1.2902734279632568\n",
      "epoch: 66\n",
      " - loss: 1.6360480785369873\n",
      "epoch: 67\n",
      " - loss: 1.2316315174102783\n",
      "epoch: 68\n",
      " - loss: 1.3478184938430786\n",
      "epoch: 69\n",
      " - loss: 1.1123768091201782\n",
      "epoch: 70\n",
      " - loss: 1.5192184448242188\n",
      "epoch: 71\n",
      " - loss: 1.2492235898971558\n",
      "epoch: 72\n",
      " - loss: 1.3822277784347534\n",
      "epoch: 73\n",
      " - loss: 1.2353410720825195\n",
      "epoch: 74\n",
      " - loss: 1.2483267784118652\n",
      "epoch: 75\n",
      " - loss: 1.3163323402404785\n",
      "epoch: 76\n",
      " - loss: 1.3654392957687378\n",
      "epoch: 77\n",
      " - loss: 1.1582252979278564\n",
      "epoch: 78\n",
      " - loss: 1.120398998260498\n",
      "epoch: 79\n",
      " - loss: 1.1700421571731567\n",
      "epoch: 80\n",
      " - loss: 1.2423590421676636\n",
      "epoch: 81\n",
      " - loss: 1.1427174806594849\n",
      "epoch: 82\n",
      " - loss: 1.3133312463760376\n",
      "epoch: 83\n",
      " - loss: 1.1381587982177734\n",
      "epoch: 84\n",
      " - loss: 1.351003885269165\n",
      "epoch: 85\n",
      " - loss: 1.2548335790634155\n",
      "epoch: 86\n",
      " - loss: 1.2096316814422607\n",
      "epoch: 87\n",
      " - loss: 1.0581380128860474\n",
      "epoch: 88\n",
      " - loss: 0.9937382340431213\n",
      "epoch: 89\n",
      " - loss: 1.253738522529602\n",
      "epoch: 90\n",
      " - loss: 1.3073639869689941\n",
      "epoch: 91\n",
      " - loss: 1.3148372173309326\n",
      "epoch: 92\n",
      " - loss: 1.19094717502594\n",
      "epoch: 93\n",
      " - loss: 1.1029340028762817\n",
      "epoch: 94\n",
      " - loss: 1.211417555809021\n",
      "epoch: 95\n",
      " - loss: 1.0465279817581177\n",
      "epoch: 96\n",
      " - loss: 1.1646519899368286\n",
      "epoch: 97\n",
      " - loss: 1.1810821294784546\n",
      "epoch: 98\n",
      " - loss: 1.144242286682129\n",
      "epoch: 99\n",
      " - loss: 1.0903733968734741\n",
      "epoch: 100\n",
      " - loss: 1.080979347229004\n",
      "epoch: 101\n",
      " - loss: 0.96441650390625\n",
      "epoch: 102\n",
      " - loss: 1.127007246017456\n",
      "epoch: 103\n",
      " - loss: 1.2458887100219727\n",
      "epoch: 104\n",
      " - loss: 1.001049518585205\n",
      "epoch: 105\n",
      " - loss: 1.1633626222610474\n",
      "epoch: 106\n",
      " - loss: 1.0774952173233032\n",
      "epoch: 107\n",
      " - loss: 1.1425786018371582\n",
      "epoch: 108\n",
      " - loss: 1.1623142957687378\n",
      "epoch: 109\n",
      " - loss: 1.0349905490875244\n",
      "epoch: 110\n",
      " - loss: 0.9448392987251282\n",
      "epoch: 111\n",
      " - loss: 1.1604139804840088\n",
      "epoch: 112\n",
      " - loss: 1.1413357257843018\n",
      "epoch: 113\n",
      " - loss: 1.1657198667526245\n",
      "epoch: 114\n",
      " - loss: 1.0304999351501465\n",
      "epoch: 115\n",
      " - loss: 0.9368346333503723\n",
      "epoch: 116\n",
      " - loss: 1.076749324798584\n",
      "epoch: 117\n",
      " - loss: 0.9745365381240845\n",
      "epoch: 118\n",
      " - loss: 1.2051727771759033\n",
      "epoch: 119\n",
      " - loss: 1.0006065368652344\n",
      "epoch: 120\n",
      " - loss: 1.0884443521499634\n",
      "epoch: 121\n",
      " - loss: 1.094269037246704\n",
      "epoch: 122\n",
      " - loss: 1.0148907899856567\n",
      "epoch: 123\n",
      " - loss: 0.9948150515556335\n",
      "epoch: 124\n",
      " - loss: 1.0542601346969604\n",
      "epoch: 125\n",
      " - loss: 0.8288477063179016\n",
      "epoch: 126\n",
      " - loss: 0.9871302247047424\n",
      "epoch: 127\n",
      " - loss: 0.9396868944168091\n",
      "epoch: 128\n",
      " - loss: 1.13295316696167\n",
      "epoch: 129\n",
      " - loss: 1.1294913291931152\n",
      "epoch: 130\n",
      " - loss: 1.0550761222839355\n",
      "epoch: 131\n",
      " - loss: 0.9326038956642151\n",
      "epoch: 132\n",
      " - loss: 0.9611451625823975\n",
      "epoch: 133\n",
      " - loss: 1.1218045949935913\n",
      "epoch: 134\n",
      " - loss: 0.8652256727218628\n",
      "epoch: 135\n",
      " - loss: 1.1975250244140625\n",
      "epoch: 136\n",
      " - loss: 1.033820629119873\n",
      "epoch: 137\n",
      " - loss: 0.9623340368270874\n",
      "epoch: 138\n",
      " - loss: 0.9566266536712646\n",
      "epoch: 139\n",
      " - loss: 0.9890452027320862\n",
      "epoch: 140\n",
      " - loss: 1.096956491470337\n",
      "epoch: 141\n",
      " - loss: 1.0285955667495728\n",
      "epoch: 142\n",
      " - loss: 1.0390479564666748\n",
      "epoch: 143\n",
      " - loss: 1.0554310083389282\n",
      "epoch: 144\n",
      " - loss: 0.8723915815353394\n",
      "epoch: 145\n",
      " - loss: 1.1716067790985107\n",
      "epoch: 146\n",
      " - loss: 0.9427362680435181\n",
      "epoch: 147\n",
      " - loss: 1.1243221759796143\n",
      "epoch: 148\n",
      " - loss: 1.0480995178222656\n",
      "epoch: 149\n",
      " - loss: 0.8350162506103516\n",
      "epoch: 150\n",
      " - loss: 1.063033938407898\n",
      "epoch: 151\n",
      " - loss: 0.9716973900794983\n",
      "epoch: 152\n",
      " - loss: 0.811475396156311\n",
      "epoch: 153\n",
      " - loss: 1.084835171699524\n",
      "epoch: 154\n",
      " - loss: 0.9765118360519409\n",
      "epoch: 155\n",
      " - loss: 1.0463958978652954\n",
      "epoch: 156\n",
      " - loss: 0.9941185712814331\n",
      "epoch: 157\n",
      " - loss: 1.0021295547485352\n",
      "epoch: 158\n",
      " - loss: 0.7594273090362549\n",
      "epoch: 159\n",
      " - loss: 1.0301107168197632\n"
     ]
    }
   ],
   "source": [
    "for epoch in range(160):\n",
    "    iteration = 0\n",
    "    total_loss = 0\n",
    "    print(\"epoch:\", epoch)\n",
    "    for batch in data_loader:\n",
    "        iteration = 0\n",
    "        total_loss = 0\n",
    "        batch_data = batch[0].to(device)\n",
    "        batch_labels = batch[1].to(device)\n",
    "\n",
    "        optimizer.zero_grad()\n",
    "        pred = model(batch_data)\n",
    "        loss = loss_fn(pred, batch_labels)\n",
    "        loss.backward()\n",
    "        optimizer.step()\n",
    "\n",
    "        total_loss += loss\n",
    "        iteration += 1\n",
    "\n",
    "    scheduler.step()\n",
    "    print(\" - loss:\", total_loss.item() / iteration)"
   ],
   "metadata": {
    "collapsed": false,
    "ExecuteTime": {
     "end_time": "2023-11-29T18:28:02.829132800Z",
     "start_time": "2023-11-29T17:37:09.801683100Z"
    }
   },
   "id": "cb530baee34620f4"
  },
  {
   "cell_type": "code",
   "execution_count": 24,
   "outputs": [
    {
     "data": {
      "text/plain": "VisionTransformerModel(\n  (patch_flatten): Flatten(start_dim=-3, end_dim=-1)\n  (embed): Linear(in_features=48, out_features=256, bias=True)\n  (dropout1): Dropout(p=0.2, inplace=False)\n  (transformers): TransformerEncoder(\n    (layers): ModuleList(\n      (0-5): 6 x TransformerEncoderLayer(\n        (self_attn): MultiheadAttention(\n          (out_proj): NonDynamicallyQuantizableLinear(in_features=256, out_features=256, bias=True)\n        )\n        (linear1): Linear(in_features=256, out_features=512, bias=True)\n        (dropout): Dropout(p=0.2, inplace=False)\n        (linear2): Linear(in_features=512, out_features=256, bias=True)\n        (norm1): LayerNorm((256,), eps=1e-05, elementwise_affine=True)\n        (norm2): LayerNorm((256,), eps=1e-05, elementwise_affine=True)\n        (dropout1): Dropout(p=0.2, inplace=False)\n        (dropout2): Dropout(p=0.2, inplace=False)\n      )\n    )\n  )\n  (normalization): LayerNorm((256,), eps=1e-05, elementwise_affine=True)\n  (MLP): Linear(in_features=256, out_features=10, bias=True)\n)"
     },
     "execution_count": 24,
     "metadata": {},
     "output_type": "execute_result"
    }
   ],
   "source": [
    "model.eval()"
   ],
   "metadata": {
    "collapsed": false,
    "ExecuteTime": {
     "end_time": "2023-11-29T18:28:25.693233800Z",
     "start_time": "2023-11-29T18:28:25.667235200Z"
    }
   },
   "id": "c9680434b2f874c"
  },
  {
   "cell_type": "code",
   "execution_count": 25,
   "outputs": [
    {
     "name": "stdout",
     "output_type": "stream",
     "text": [
      "70.694 %\n"
     ]
    }
   ],
   "source": [
    "correct = 0\n",
    "total = 0\n",
    "\n",
    "with torch.no_grad():\n",
    "    for data in test_loader:\n",
    "        images, labels = data\n",
    "        images = images.to(device)\n",
    "        labels = labels.to(device)\n",
    "        outputs = model(images)\n",
    "\n",
    "        _, predicted = torch.max(outputs.data, 1)\n",
    "        total += labels.size(0)\n",
    "        correct += (predicted == labels).sum().item()\n",
    "\n",
    "print(100 * correct / total, \"%\")"
   ],
   "metadata": {
    "collapsed": false,
    "ExecuteTime": {
     "end_time": "2023-11-29T18:28:49.368818900Z",
     "start_time": "2023-11-29T18:28:25.682235300Z"
    }
   },
   "id": "785a6df7cf23bddb"
  },
  {
   "cell_type": "code",
   "execution_count": 26,
   "outputs": [
    {
     "name": "stdout",
     "output_type": "stream",
     "text": [
      "truck frog automobile cat truck bird bird ship horse airplane deer ship airplane airplane frog dog "
     ]
    },
    {
     "data": {
      "text/plain": "<matplotlib.image.AxesImage at 0x23d42287670>"
     },
     "execution_count": 26,
     "metadata": {},
     "output_type": "execute_result"
    },
    {
     "data": {
      "text/plain": "<Figure size 800x800 with 1 Axes>",
      "image/png": "[encoded data removed]"
     },
     "metadata": {},
     "output_type": "display_data"
    }
   ],
   "source": [
    "d = next(iter(test_loader))[0][:16].to(device)\n",
    "\n",
    "classification = torch.argmax(model(d), 1)\n",
    "\n",
    "for c in classification:\n",
    "    print(classes[c],end = \" \")\n",
    "\n",
    "step = 4\n",
    "plt.figure(figsize=(8, 8))\n",
    "plt.axis(\"off\")\n",
    "plt.imshow(\n",
    "    (\n",
    "        vutils.make_grid(d, nrow=4, padding=1, normalize=True)\n",
    "        .permute(1, 2, 0)\n",
    "        .detach()\n",
    "        .cpu()\n",
    "        .numpy()\n",
    "    )\n",
    ")"
   ],
   "metadata": {
    "collapsed": false,
    "ExecuteTime": {
     "end_time": "2023-11-29T18:28:49.509818600Z",
     "start_time": "2023-11-29T18:28:49.368818900Z"
    }
   },
   "id": "6fd2ac6a5ab13d3"
  },
  {
   "cell_type": "code",
   "execution_count": 23,
   "outputs": [],
   "source": [],
   "metadata": {
    "collapsed": false,
    "ExecuteTime": {
     "end_time": "2023-11-29T18:28:25.664233700Z",
     "start_time": "2023-11-29T18:28:25.649235200Z"
    }
   },
   "id": "ee75a18f87960a2d"
  }
 ],
 "metadata": {
  "kernelspec": {
   "display_name": "Python 3",
   "language": "python",
   "name": "python3"
  },
  "language_info": {
   "codemirror_mode": {
    "name": "ipython",
    "version": 2
   },
   "file_extension": ".py",
   "mimetype": "text/x-python",
   "name": "python",
   "nbconvert_exporter": "python",
   "pygments_lexer": "ipython2",
   "version": "2.7.6"
  }
 },
 "nbformat": 4,
 "nbformat_minor": 5
}
