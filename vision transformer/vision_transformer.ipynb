{
 "cells": [
  {
   "cell_type": "code",
   "execution_count": 1,
   "id": "initial_id",
   "metadata": {
    "collapsed": true,
    "ExecuteTime": {
     "end_time": "2023-11-30T09:44:11.618123300Z",
     "start_time": "2023-11-30T09:44:09.470663200Z"
    }
   },
   "outputs": [],
   "source": [
    "import torch as torch"
   ]
  },
  {
   "cell_type": "code",
   "execution_count": 2,
   "outputs": [],
   "source": [
    "if torch.cuda.is_available():\n",
    "    cuda_id = torch.cuda.current_device()\n",
    "    device_name = torch.cuda.get_device_name(cuda_id)\n",
    "    device = \"cuda:0\"\n",
    "else:\n",
    "    device = \"cpu\""
   ],
   "metadata": {
    "collapsed": false,
    "ExecuteTime": {
     "end_time": "2023-11-30T09:44:11.653123900Z",
     "start_time": "2023-11-30T09:44:11.619123400Z"
    }
   },
   "id": "e8a100858fc8b50b"
  },
  {
   "cell_type": "markdown",
   "source": [
    "### Download and preparethe data\n",
    "\n",
    "We'll use the CIFAR10 dataset"
   ],
   "metadata": {
    "collapsed": false
   },
   "id": "f51fdad69ce1e7a6"
  },
  {
   "cell_type": "code",
   "execution_count": 3,
   "outputs": [],
   "source": [
    "import os\n",
    "from torchvision.datasets import CIFAR10\n",
    "import torchvision.transforms as transforms\n",
    "from torch.utils.data import DataLoader"
   ],
   "metadata": {
    "collapsed": false,
    "ExecuteTime": {
     "end_time": "2023-11-30T09:44:12.066718600Z",
     "start_time": "2023-11-30T09:44:11.651124600Z"
    }
   },
   "id": "86e29a36b84c2248"
  },
  {
   "cell_type": "code",
   "execution_count": 4,
   "outputs": [],
   "source": [
    "batch_size = 100"
   ],
   "metadata": {
    "collapsed": false,
    "ExecuteTime": {
     "end_time": "2023-11-30T09:44:12.081719200Z",
     "start_time": "2023-11-30T09:44:12.067719500Z"
    }
   },
   "id": "bf8b0e5f6d01c396"
  },
  {
   "cell_type": "code",
   "execution_count": 5,
   "outputs": [
    {
     "name": "stdout",
     "output_type": "stream",
     "text": [
      "Files already downloaded and verified\n",
      "Files already downloaded and verified\n"
     ]
    }
   ],
   "source": [
    "# download and augment the training dataset\n",
    "if not os.path.exists(\"./data\"):\n",
    "    os.mkdir(\"./data\")\n",
    "\n",
    "data = CIFAR10(\n",
    "    root=\"./data\",\n",
    "    train=True,\n",
    "    transform=transforms.Compose(\n",
    "        [\n",
    "            transforms.RandomHorizontalFlip(),\n",
    "            transforms.RandomResizedCrop(size=32, ratio=(0.9, 1.1)),\n",
    "            transforms.ToTensor(),\n",
    "            transforms.Normalize(0, 1),\n",
    "        ]\n",
    "    ),\n",
    "    download=True,\n",
    ")\n",
    "\n",
    "data_loader = DataLoader(data, batch_size=batch_size, shuffle=True)\n",
    "\n",
    "test_data = CIFAR10(\n",
    "    root=\"./data\",\n",
    "    train=False,\n",
    "    transform=transforms.Compose(\n",
    "        [\n",
    "            transforms.ToTensor(),\n",
    "            transforms.Normalize(0, 1),\n",
    "        ]\n",
    "    ),\n",
    "    download=True,\n",
    ")\n",
    "test_loader = DataLoader(test_data, batch_size=batch_size, shuffle=True)"
   ],
   "metadata": {
    "collapsed": false,
    "ExecuteTime": {
     "end_time": "2023-11-30T09:44:13.154906700Z",
     "start_time": "2023-11-30T09:44:12.084719700Z"
    }
   },
   "id": "8ddb240309e17171"
  },
  {
   "cell_type": "code",
   "execution_count": 6,
   "outputs": [
    {
     "data": {
      "text/plain": "['airplane',\n 'automobile',\n 'bird',\n 'cat',\n 'deer',\n 'dog',\n 'frog',\n 'horse',\n 'ship',\n 'truck']"
     },
     "execution_count": 6,
     "metadata": {},
     "output_type": "execute_result"
    }
   ],
   "source": [
    "classes = data.classes\n",
    "classes"
   ],
   "metadata": {
    "collapsed": false,
    "ExecuteTime": {
     "end_time": "2023-11-30T09:44:13.169907200Z",
     "start_time": "2023-11-30T09:44:13.153907200Z"
    }
   },
   "id": "a2cc10088ac10168"
  },
  {
   "cell_type": "markdown",
   "source": [
    "### Print out an example image"
   ],
   "metadata": {
    "collapsed": false
   },
   "id": "d2277894ab71e829"
  },
  {
   "cell_type": "code",
   "execution_count": 7,
   "outputs": [],
   "source": [
    "import matplotlib.pyplot as plt"
   ],
   "metadata": {
    "collapsed": false,
    "ExecuteTime": {
     "end_time": "2023-11-30T09:44:13.536498400Z",
     "start_time": "2023-11-30T09:44:13.168907100Z"
    }
   },
   "id": "4b0b70f16ea958b1"
  },
  {
   "cell_type": "code",
   "execution_count": 8,
   "outputs": [],
   "source": [
    "def display(image, size=8):\n",
    "    print(image[0].shape)\n",
    "    image = image[0].permute((1, 2, 0))\n",
    "    plt.figure(figsize=(size, size))\n",
    "    plt.axis(\"off\")\n",
    "    plt.imshow(image)\n",
    "    plt.show()"
   ],
   "metadata": {
    "collapsed": false,
    "ExecuteTime": {
     "end_time": "2023-11-30T09:44:13.552498100Z",
     "start_time": "2023-11-30T09:44:13.535498400Z"
    }
   },
   "id": "f6403a2595f0aea8"
  },
  {
   "cell_type": "code",
   "execution_count": 9,
   "outputs": [
    {
     "name": "stdout",
     "output_type": "stream",
     "text": [
      "torch.Size([3, 32, 32])\n"
     ]
    },
    {
     "data": {
      "text/plain": "<Figure size 800x800 with 1 Axes>",
      "image/png": "[encoded data removed]"
     },
     "metadata": {},
     "output_type": "display_data"
    }
   ],
   "source": [
    "display(data[14])"
   ],
   "metadata": {
    "collapsed": false,
    "ExecuteTime": {
     "end_time": "2023-11-30T09:44:13.625498500Z",
     "start_time": "2023-11-30T09:44:13.552498100Z"
    }
   },
   "id": "eaed33a246824db1"
  },
  {
   "cell_type": "markdown",
   "source": [
    "### Split a batch of data into batch of patches"
   ],
   "metadata": {
    "collapsed": false
   },
   "id": "465cffcc2714f724"
  },
  {
   "cell_type": "code",
   "execution_count": 10,
   "outputs": [],
   "source": [
    "import torchvision.utils as vutils"
   ],
   "metadata": {
    "collapsed": false,
    "ExecuteTime": {
     "end_time": "2023-11-30T09:44:13.662498600Z",
     "start_time": "2023-11-30T09:44:13.617498600Z"
    }
   },
   "id": "369ba5d45a1b4be"
  },
  {
   "cell_type": "code",
   "execution_count": 11,
   "outputs": [],
   "source": [
    "def batch_patch(tensor, step=4):\n",
    "    if len(tensor.shape) == 3:\n",
    "        return (\n",
    "            tensor.unfold(0, 3, 3)\n",
    "            .unfold(1, step, step)\n",
    "            .unfold(2, step, step)\n",
    "            .flatten(start_dim=0, end_dim=2)\n",
    "        )\n",
    "    return (\n",
    "        tensor.unfold(1, 3, 3)\n",
    "        .unfold(2, step, step)\n",
    "        .unfold(3, step, step)\n",
    "        .squeeze()\n",
    "        .flatten(start_dim=1, end_dim=2)\n",
    "    )"
   ],
   "metadata": {
    "collapsed": false,
    "ExecuteTime": {
     "end_time": "2023-11-30T09:44:13.676499800Z",
     "start_time": "2023-11-30T09:44:13.632498600Z"
    }
   },
   "id": "fc9a852d8ac38345"
  },
  {
   "cell_type": "code",
   "execution_count": 12,
   "outputs": [
    {
     "name": "stdout",
     "output_type": "stream",
     "text": [
      "torch.Size([100, 3, 32, 32])\n"
     ]
    },
    {
     "data": {
      "text/plain": "<matplotlib.image.AxesImage at 0x2303fabee30>"
     },
     "execution_count": 12,
     "metadata": {},
     "output_type": "execute_result"
    },
    {
     "data": {
      "text/plain": "<Figure size 800x800 with 1 Axes>",
      "image/png": "[encoded data removed]"
     },
     "metadata": {},
     "output_type": "display_data"
    }
   ],
   "source": [
    "d = next(iter(data_loader))[0]\n",
    "print(d.shape)\n",
    "\n",
    "step = 4\n",
    "plt.figure(figsize=(8, 8))\n",
    "plt.axis(\"off\")\n",
    "plt.imshow(\n",
    "    (\n",
    "        vutils.make_grid(\n",
    "            batch_patch(d, step)[0], nrow=32 // step, padding=1, normalize=True\n",
    "        )\n",
    "        .permute(1, 2, 0)\n",
    "        .detach()\n",
    "        .cpu()\n",
    "        .numpy()\n",
    "    )\n",
    ")"
   ],
   "metadata": {
    "collapsed": false,
    "ExecuteTime": {
     "end_time": "2023-11-30T09:44:13.744499600Z",
     "start_time": "2023-11-30T09:44:13.649498800Z"
    }
   },
   "id": "6d34b5fd5ea80488"
  },
  {
   "cell_type": "markdown",
   "source": [
    "### Implement the model"
   ],
   "metadata": {
    "collapsed": false
   },
   "id": "e62f272b295fbb17"
  },
  {
   "cell_type": "code",
   "execution_count": 13,
   "outputs": [],
   "source": [
    "import torch.nn as nn"
   ],
   "metadata": {
    "collapsed": false,
    "ExecuteTime": {
     "end_time": "2023-11-30T09:44:13.745503700Z",
     "start_time": "2023-11-30T09:44:13.728499300Z"
    }
   },
   "id": "4367f5eb69f307e4"
  },
  {
   "cell_type": "markdown",
   "source": [
    "First implement the learnable positional encoding layer - it was used in DDPM lab"
   ],
   "metadata": {
    "collapsed": false
   },
   "id": "f785d80b1d212b0b"
  },
  {
   "cell_type": "markdown",
   "source": [
    "Implement a transformer block - We'll need a few of them so it's easier to make a separate class"
   ],
   "metadata": {
    "collapsed": false
   },
   "id": "b3349943544c2b8f"
  },
  {
   "cell_type": "code",
   "execution_count": 14,
   "outputs": [],
   "source": [
    "# this implementation is currently not working. For some reason. I don't know why\n",
    "class TransformerBlock(nn.Module):\n",
    "    def __init__(self, n_dims=256, num_heads=8):\n",
    "        super(TransformerBlock, self).__init__()\n",
    "        self.norm = nn.LayerNorm(n_dims)\n",
    "        self.attention = nn.MultiheadAttention(\n",
    "            embed_dim=n_dims,\n",
    "            num_heads=num_heads,\n",
    "        )\n",
    "        self.network = nn.Sequential(\n",
    "            nn.LayerNorm(n_dims),\n",
    "            nn.Linear(n_dims, 2 * n_dims),\n",
    "            nn.GELU(),\n",
    "            nn.Dropout(0.2),\n",
    "            nn.Linear(2 * n_dims, n_dims),\n",
    "            nn.Dropout(0.2),\n",
    "        )\n",
    "\n",
    "    def forward(self, tr_input):\n",
    "        residual = tr_input\n",
    "        out = self.norm(tr_input)\n",
    "        out = self.attention(out, out, out)[0]\n",
    "        out += residual\n",
    "        residual2 = out\n",
    "        out = self.network(out)\n",
    "        out += residual2\n",
    "        return out"
   ],
   "metadata": {
    "collapsed": false,
    "ExecuteTime": {
     "end_time": "2023-11-30T09:44:13.779500200Z",
     "start_time": "2023-11-30T09:44:13.745503700Z"
    }
   },
   "id": "a0c0b2525e1a83cc"
  },
  {
   "cell_type": "markdown",
   "source": [
    "Whole model"
   ],
   "metadata": {
    "collapsed": false
   },
   "id": "8cd89879c2ced40b"
  },
  {
   "cell_type": "code",
   "execution_count": 15,
   "outputs": [],
   "source": [
    "class VisionTransformerModel(nn.Module):\n",
    "    def __init__(self, n_classes, patch_size=4, im_size=32, n_dims=256):\n",
    "        super(VisionTransformerModel, self).__init__()\n",
    "        self.patch_size = patch_size\n",
    "        self.token = torch.rand(\n",
    "            n_dims, dtype=torch.float32, requires_grad=True, device=device\n",
    "        )\n",
    "        self.positional_vector = torch.rand(\n",
    "            ((im_size // patch_size) ** 2 + 1, n_dims),\n",
    "            requires_grad=True,\n",
    "            device=device,\n",
    "        )\n",
    "        self.patch_flatten = nn.Flatten(start_dim=-3)\n",
    "        self.embed = nn.Linear(3 * patch_size**2, n_dims)\n",
    "        self.dropout1 = nn.Dropout(0.2)\n",
    "        # self.transformers = nn.Sequential(\n",
    "        #     TransformerBlock(n_dims=n_dims),\n",
    "        #     TransformerBlock(n_dims=n_dims),\n",
    "        #     TransformerBlock(n_dims=n_dims),\n",
    "        #     TransformerBlock(n_dims=n_dims),\n",
    "        #     TransformerBlock(n_dims=n_dims),\n",
    "        #     TransformerBlock(n_dims=n_dims),\n",
    "        # ).to(device)\n",
    "        self.transformers = nn.TransformerEncoder(\n",
    "            nn.TransformerEncoderLayer(\n",
    "                d_model=n_dims,\n",
    "                nhead=8,\n",
    "                dim_feedforward=2 * n_dims,\n",
    "                dropout=0.2,\n",
    "                activation=\"gelu\",\n",
    "                norm_first=True,\n",
    "                batch_first=True,\n",
    "            ),\n",
    "            6,\n",
    "        )\n",
    "\n",
    "        self.normalization = nn.LayerNorm(n_dims)\n",
    "        self.MLP = nn.Linear(n_dims, n_classes)\n",
    "\n",
    "    def forward(self, img):\n",
    "        patched = batch_patch(img, self.patch_size)\n",
    "\n",
    "        flattened = self.patch_flatten(patched)\n",
    "        embedded = self.embed(flattened)\n",
    "\n",
    "        class_token = torch.ones(img.shape[0]).to(device).reshape(-1, 1, 1) * self.token\n",
    "        with_token = torch.concat([class_token, embedded], 1)\n",
    "\n",
    "        with_encode = with_token + self.positional_vector\n",
    "\n",
    "        after_dropout = self.dropout1(with_encode)\n",
    "        tr = self.transformers(after_dropout)[:, 0]\n",
    "        normalized = self.normalization(tr)\n",
    "        post_mlp = self.MLP(normalized)\n",
    "        return post_mlp"
   ],
   "metadata": {
    "collapsed": false,
    "ExecuteTime": {
     "end_time": "2023-11-30T09:44:13.779500200Z",
     "start_time": "2023-11-30T09:44:13.762499700Z"
    }
   },
   "id": "42d2eb72a01a9dd3"
  },
  {
   "cell_type": "markdown",
   "source": [
    "### Prepare the model for training"
   ],
   "metadata": {
    "collapsed": false
   },
   "id": "3379bcd0be342b6a"
  },
  {
   "cell_type": "code",
   "execution_count": 16,
   "outputs": [
    {
     "name": "stderr",
     "output_type": "stream",
     "text": [
      "C:\\Users\\piotr\\AppData\\Local\\Programs\\Python\\Python310\\lib\\site-packages\\torch\\nn\\modules\\transformer.py:282: UserWarning: enable_nested_tensor is True, but self.use_nested_tensor is False because encoder_layer.norm_first was True\n",
      "  warnings.warn(f\"enable_nested_tensor is True, but self.use_nested_tensor is False because {why_not_sparsity_fast_path}\")\n"
     ]
    }
   ],
   "source": [
    "model = VisionTransformerModel(len(data.classes)).to(device)"
   ],
   "metadata": {
    "collapsed": false,
    "ExecuteTime": {
     "end_time": "2023-11-30T09:44:14.623122300Z",
     "start_time": "2023-11-30T09:44:13.775500Z"
    }
   },
   "id": "b9991d03b14aacff"
  },
  {
   "cell_type": "code",
   "execution_count": 17,
   "outputs": [
    {
     "data": {
      "text/plain": "'attached.png'"
     },
     "execution_count": 17,
     "metadata": {},
     "output_type": "execute_result"
    }
   ],
   "source": [
    "from torchviz import make_dot\n",
    "import torch\n",
    "from torch.autograd import Variable\n",
    "\n",
    "x = Variable(torch.rand((100, 3, 32, 32)).to(device), requires_grad=True)\n",
    "y = model(x)\n",
    "\n",
    "make_dot(y).render(\"attached\", format=\"png\")"
   ],
   "metadata": {
    "collapsed": false,
    "ExecuteTime": {
     "end_time": "2023-11-30T09:44:15.822393100Z",
     "start_time": "2023-11-30T09:44:14.625129Z"
    }
   },
   "id": "2a6e20c09c207772"
  },
  {
   "cell_type": "code",
   "execution_count": 18,
   "outputs": [],
   "source": [
    "params = [p for p in model.parameters()] + [model.token, model.positional_vector]\n",
    "optimizer = torch.optim.AdamW(params, lr=0.001, weight_decay=0.01)\n",
    "scheduler = torch.optim.lr_scheduler.MultiStepLR(\n",
    "    optimizer, [x for x in range(10, 16 + 10, 10)], 0.8\n",
    ")\n",
    "loss_fn = torch.nn.CrossEntropyLoss()"
   ],
   "metadata": {
    "collapsed": false,
    "ExecuteTime": {
     "end_time": "2023-11-30T09:44:15.857393100Z",
     "start_time": "2023-11-30T09:44:15.822393100Z"
    }
   },
   "id": "59467a0864c1d81c"
  },
  {
   "cell_type": "code",
   "execution_count": 19,
   "outputs": [
    {
     "name": "stdout",
     "output_type": "stream",
     "text": [
      "epoch: 0\n",
      " - loss: 1.8451730012893677\n",
      "epoch: 1\n",
      " - loss: 1.85234797000885\n",
      "epoch: 2\n",
      " - loss: 1.6661922931671143\n",
      "epoch: 3\n",
      " - loss: 1.834652066230774\n",
      "epoch: 4\n",
      " - loss: 1.722745418548584\n",
      "epoch: 5\n",
      " - loss: 1.7549405097961426\n",
      "epoch: 6\n",
      " - loss: 1.698643684387207\n",
      "epoch: 7\n",
      " - loss: 1.5971217155456543\n",
      "epoch: 8\n",
      " - loss: 1.706086277961731\n",
      "epoch: 9\n",
      " - loss: 1.8006165027618408\n",
      "epoch: 10\n",
      " - loss: 1.5862175226211548\n",
      "epoch: 11\n",
      " - loss: 1.6480357646942139\n",
      "epoch: 12\n",
      " - loss: 1.7110590934753418\n",
      "epoch: 13\n",
      " - loss: 1.650586724281311\n",
      "epoch: 14\n",
      " - loss: 1.4567636251449585\n",
      "epoch: 15\n",
      " - loss: 1.494968295097351\n",
      "epoch: 16\n",
      " - loss: 1.602622628211975\n",
      "epoch: 17\n",
      " - loss: 1.5325889587402344\n",
      "epoch: 18\n",
      " - loss: 1.690382480621338\n",
      "epoch: 19\n",
      " - loss: 1.783023476600647\n",
      "epoch: 20\n",
      " - loss: 1.4366649389266968\n",
      "epoch: 21\n",
      " - loss: 1.5202685594558716\n",
      "epoch: 22\n",
      " - loss: 1.572672724723816\n",
      "epoch: 23\n",
      " - loss: 1.5141167640686035\n",
      "epoch: 24\n",
      " - loss: 1.5204821825027466\n",
      "epoch: 25\n",
      " - loss: 1.503801703453064\n",
      "epoch: 26\n",
      " - loss: 1.4737610816955566\n",
      "epoch: 27\n",
      " - loss: 1.4587836265563965\n",
      "epoch: 28\n",
      " - loss: 1.4742844104766846\n",
      "epoch: 29\n",
      " - loss: 1.4404189586639404\n",
      "epoch: 30\n",
      " - loss: 1.436659574508667\n",
      "epoch: 31\n",
      " - loss: 1.3524595499038696\n",
      "epoch: 32\n",
      " - loss: 1.5475387573242188\n",
      "epoch: 33\n",
      " - loss: 1.2550982236862183\n",
      "epoch: 34\n",
      " - loss: 1.6269340515136719\n",
      "epoch: 35\n",
      " - loss: 1.4387085437774658\n",
      "epoch: 36\n",
      " - loss: 1.4228090047836304\n",
      "epoch: 37\n",
      " - loss: 1.4792271852493286\n",
      "epoch: 38\n",
      " - loss: 1.357993483543396\n",
      "epoch: 39\n",
      " - loss: 1.3386033773422241\n",
      "epoch: 40\n",
      " - loss: 1.4835683107376099\n",
      "epoch: 41\n",
      " - loss: 1.5312674045562744\n",
      "epoch: 42\n",
      " - loss: 1.2275707721710205\n",
      "epoch: 43\n",
      " - loss: 1.2951034307479858\n",
      "epoch: 44\n",
      " - loss: 1.5034420490264893\n",
      "epoch: 45\n",
      " - loss: 1.280907154083252\n",
      "epoch: 46\n",
      " - loss: 1.2411861419677734\n",
      "epoch: 47\n",
      " - loss: 1.2439101934432983\n",
      "epoch: 48\n",
      " - loss: 1.3344600200653076\n",
      "epoch: 49\n",
      " - loss: 1.2086495161056519\n",
      "epoch: 50\n",
      " - loss: 1.441226840019226\n",
      "epoch: 51\n",
      " - loss: 1.3638571500778198\n",
      "epoch: 52\n",
      " - loss: 1.2075036764144897\n",
      "epoch: 53\n",
      " - loss: 1.3199794292449951\n",
      "epoch: 54\n",
      " - loss: 1.3050599098205566\n",
      "epoch: 55\n",
      " - loss: 1.3363447189331055\n",
      "epoch: 56\n",
      " - loss: 1.2710518836975098\n",
      "epoch: 57\n",
      " - loss: 1.4941679239273071\n",
      "epoch: 58\n",
      " - loss: 1.389463186264038\n",
      "epoch: 59\n",
      " - loss: 1.1516938209533691\n",
      "epoch: 60\n",
      " - loss: 1.3203577995300293\n",
      "epoch: 61\n",
      " - loss: 1.2383904457092285\n",
      "epoch: 62\n",
      " - loss: 1.0192534923553467\n",
      "epoch: 63\n",
      " - loss: 1.3771026134490967\n",
      "epoch: 64\n",
      " - loss: 1.2356255054473877\n",
      "epoch: 65\n",
      " - loss: 1.256760835647583\n",
      "epoch: 66\n",
      " - loss: 1.2150572538375854\n",
      "epoch: 67\n",
      " - loss: 1.1345078945159912\n",
      "epoch: 68\n",
      " - loss: 1.2595363855361938\n",
      "epoch: 69\n",
      " - loss: 1.3420337438583374\n",
      "epoch: 70\n",
      " - loss: 1.3370944261550903\n",
      "epoch: 71\n",
      " - loss: 1.2158172130584717\n",
      "epoch: 72\n",
      " - loss: 1.257300615310669\n",
      "epoch: 73\n",
      " - loss: 1.220054030418396\n",
      "epoch: 74\n",
      " - loss: 0.9621367454528809\n",
      "epoch: 75\n",
      " - loss: 1.2038239240646362\n",
      "epoch: 76\n",
      " - loss: 1.1354941129684448\n",
      "epoch: 77\n",
      " - loss: 1.0336313247680664\n",
      "epoch: 78\n",
      " - loss: 1.140385627746582\n",
      "epoch: 79\n",
      " - loss: 0.9467667937278748\n",
      "epoch: 80\n",
      " - loss: 1.1765241622924805\n",
      "epoch: 81\n",
      " - loss: 1.1989548206329346\n",
      "epoch: 82\n",
      " - loss: 1.1905114650726318\n",
      "epoch: 83\n",
      " - loss: 1.240738868713379\n",
      "epoch: 84\n",
      " - loss: 1.2331385612487793\n",
      "epoch: 85\n",
      " - loss: 1.1797242164611816\n",
      "epoch: 86\n",
      " - loss: 1.11936354637146\n",
      "epoch: 87\n",
      " - loss: 1.221235752105713\n",
      "epoch: 88\n",
      " - loss: 1.228248953819275\n",
      "epoch: 89\n",
      " - loss: 1.1225460767745972\n",
      "epoch: 90\n",
      " - loss: 0.9853540062904358\n",
      "epoch: 91\n",
      " - loss: 0.9435015916824341\n",
      "epoch: 92\n",
      " - loss: 1.0066622495651245\n",
      "epoch: 93\n",
      " - loss: 1.0788626670837402\n",
      "epoch: 94\n",
      " - loss: 1.1239174604415894\n",
      "epoch: 95\n",
      " - loss: 1.2095508575439453\n",
      "epoch: 96\n",
      " - loss: 1.1229275465011597\n",
      "epoch: 97\n",
      " - loss: 1.0905489921569824\n",
      "epoch: 98\n",
      " - loss: 1.039776086807251\n",
      "epoch: 99\n",
      " - loss: 1.0789501667022705\n",
      "epoch: 100\n",
      " - loss: 0.9453339576721191\n",
      "epoch: 101\n",
      " - loss: 1.027319312095642\n",
      "epoch: 102\n",
      " - loss: 1.270667314529419\n",
      "epoch: 103\n",
      " - loss: 1.2215265035629272\n",
      "epoch: 104\n",
      " - loss: 1.110904574394226\n",
      "epoch: 105\n",
      " - loss: 0.9916070699691772\n",
      "epoch: 106\n",
      " - loss: 0.8930497169494629\n",
      "epoch: 107\n",
      " - loss: 1.0058276653289795\n",
      "epoch: 108\n",
      " - loss: 1.2148785591125488\n",
      "epoch: 109\n",
      " - loss: 1.028749704360962\n",
      "epoch: 110\n",
      " - loss: 1.0538822412490845\n",
      "epoch: 111\n",
      " - loss: 0.8301527500152588\n",
      "epoch: 112\n",
      " - loss: 0.8511193990707397\n",
      "epoch: 113\n",
      " - loss: 1.153505802154541\n",
      "epoch: 114\n",
      " - loss: 0.9986945390701294\n",
      "epoch: 115\n",
      " - loss: 1.2052319049835205\n",
      "epoch: 116\n",
      " - loss: 1.0263112783432007\n",
      "epoch: 117\n",
      " - loss: 0.77325838804245\n",
      "epoch: 118\n",
      " - loss: 1.092861294746399\n",
      "epoch: 119\n",
      " - loss: 0.923373281955719\n",
      "epoch: 120\n",
      " - loss: 0.8814280033111572\n",
      "epoch: 121\n",
      " - loss: 0.9932913184165955\n",
      "epoch: 122\n",
      " - loss: 1.013921856880188\n",
      "epoch: 123\n",
      " - loss: 1.0287203788757324\n",
      "epoch: 124\n",
      " - loss: 1.178259253501892\n",
      "epoch: 125\n",
      " - loss: 0.9701815247535706\n",
      "epoch: 126\n",
      " - loss: 0.8536717295646667\n",
      "epoch: 127\n",
      " - loss: 0.9342992305755615\n",
      "epoch: 128\n",
      " - loss: 1.1872036457061768\n",
      "epoch: 129\n",
      " - loss: 0.7623903751373291\n",
      "epoch: 130\n",
      " - loss: 0.9812365174293518\n",
      "epoch: 131\n",
      " - loss: 1.0090527534484863\n",
      "epoch: 132\n",
      " - loss: 1.0926434993743896\n",
      "epoch: 133\n",
      " - loss: 1.2439571619033813\n",
      "epoch: 134\n",
      " - loss: 0.9064459800720215\n",
      "epoch: 135\n",
      " - loss: 0.9101556539535522\n",
      "epoch: 136\n",
      " - loss: 1.1611038446426392\n",
      "epoch: 137\n",
      " - loss: 0.9914195537567139\n",
      "epoch: 138\n",
      " - loss: 0.9910719394683838\n",
      "epoch: 139\n",
      " - loss: 1.0040090084075928\n",
      "epoch: 140\n",
      " - loss: 0.9289814829826355\n",
      "epoch: 141\n",
      " - loss: 1.1044797897338867\n",
      "epoch: 142\n",
      " - loss: 1.0777087211608887\n",
      "epoch: 143\n",
      " - loss: 0.9716909527778625\n",
      "epoch: 144\n",
      " - loss: 0.9293477535247803\n",
      "epoch: 145\n",
      " - loss: 1.2221274375915527\n",
      "epoch: 146\n",
      " - loss: 0.9568882584571838\n",
      "epoch: 147\n",
      " - loss: 1.029371738433838\n",
      "epoch: 148\n",
      " - loss: 0.8109474182128906\n",
      "epoch: 149\n",
      " - loss: 0.9589285850524902\n",
      "epoch: 150\n",
      " - loss: 0.8982462882995605\n",
      "epoch: 151\n",
      " - loss: 1.314988613128662\n",
      "epoch: 152\n",
      " - loss: 0.9823892116546631\n",
      "epoch: 153\n",
      " - loss: 0.8507327437400818\n",
      "epoch: 154\n",
      " - loss: 0.9052749872207642\n",
      "epoch: 155\n",
      " - loss: 0.9534124732017517\n",
      "epoch: 156\n",
      " - loss: 0.998276948928833\n",
      "epoch: 157\n",
      " - loss: 1.002769112586975\n",
      "epoch: 158\n",
      " - loss: 0.672964334487915\n",
      "epoch: 159\n",
      " - loss: 0.8033316135406494\n"
     ]
    }
   ],
   "source": [
    "for epoch in range(160):\n",
    "    iteration = 0\n",
    "    total_loss = 0\n",
    "    print(\"epoch:\", epoch)\n",
    "    for batch in data_loader:\n",
    "        iteration = 0\n",
    "        total_loss = 0\n",
    "        batch_data = batch[0].to(device)\n",
    "        batch_labels = batch[1].to(device)\n",
    "\n",
    "        optimizer.zero_grad()\n",
    "        pred = model(batch_data)\n",
    "        loss = loss_fn(pred, batch_labels)\n",
    "        loss.backward()\n",
    "        optimizer.step()\n",
    "\n",
    "        total_loss += loss\n",
    "        iteration += 1\n",
    "\n",
    "    scheduler.step()\n",
    "    print(\" - loss:\", total_loss.item() / iteration)"
   ],
   "metadata": {
    "collapsed": false,
    "ExecuteTime": {
     "end_time": "2023-11-30T10:34:48.476530100Z",
     "start_time": "2023-11-30T09:44:15.845392100Z"
    }
   },
   "id": "cb530baee34620f4"
  },
  {
   "cell_type": "code",
   "execution_count": 20,
   "outputs": [
    {
     "data": {
      "text/plain": "VisionTransformerModel(\n  (patch_flatten): Flatten(start_dim=-3, end_dim=-1)\n  (embed): Linear(in_features=48, out_features=256, bias=True)\n  (dropout1): Dropout(p=0.2, inplace=False)\n  (transformers): TransformerEncoder(\n    (layers): ModuleList(\n      (0-5): 6 x TransformerEncoderLayer(\n        (self_attn): MultiheadAttention(\n          (out_proj): NonDynamicallyQuantizableLinear(in_features=256, out_features=256, bias=True)\n        )\n        (linear1): Linear(in_features=256, out_features=512, bias=True)\n        (dropout): Dropout(p=0.2, inplace=False)\n        (linear2): Linear(in_features=512, out_features=256, bias=True)\n        (norm1): LayerNorm((256,), eps=1e-05, elementwise_affine=True)\n        (norm2): LayerNorm((256,), eps=1e-05, elementwise_affine=True)\n        (dropout1): Dropout(p=0.2, inplace=False)\n        (dropout2): Dropout(p=0.2, inplace=False)\n      )\n    )\n  )\n  (normalization): LayerNorm((256,), eps=1e-05, elementwise_affine=True)\n  (MLP): Linear(in_features=256, out_features=10, bias=True)\n)"
     },
     "execution_count": 20,
     "metadata": {},
     "output_type": "execute_result"
    }
   ],
   "source": [
    "model.eval()"
   ],
   "metadata": {
    "collapsed": false,
    "ExecuteTime": {
     "end_time": "2023-11-30T10:34:48.496529500Z",
     "start_time": "2023-11-30T10:34:48.465528400Z"
    }
   },
   "id": "c9680434b2f874c"
  },
  {
   "cell_type": "code",
   "execution_count": 21,
   "outputs": [
    {
     "name": "stdout",
     "output_type": "stream",
     "text": [
      "66.94 %\n"
     ]
    }
   ],
   "source": [
    "correct = 0\n",
    "total = 0\n",
    "\n",
    "with torch.no_grad():\n",
    "    for data in test_loader:\n",
    "        images, labels = data\n",
    "        images = images.to(device)\n",
    "        labels = labels.to(device)\n",
    "        outputs = model(images)\n",
    "\n",
    "        _, predicted = torch.max(outputs.data, 1)\n",
    "        total += labels.size(0)\n",
    "        correct += (predicted == labels).sum().item()\n",
    "\n",
    "print(100 * correct / total, \"%\")"
   ],
   "metadata": {
    "collapsed": false,
    "ExecuteTime": {
     "end_time": "2023-11-30T10:34:50.895331200Z",
     "start_time": "2023-11-30T10:34:48.482528700Z"
    }
   },
   "id": "785a6df7cf23bddb"
  },
  {
   "cell_type": "code",
   "execution_count": 22,
   "outputs": [
    {
     "name": "stdout",
     "output_type": "stream",
     "text": [
      "dog bird frog bird truck horse truck truck dog deer dog horse dog bird bird deer "
     ]
    },
    {
     "data": {
      "text/plain": "<matplotlib.image.AxesImage at 0x2306d66c220>"
     },
     "execution_count": 22,
     "metadata": {},
     "output_type": "execute_result"
    },
    {
     "data": {
      "text/plain": "<Figure size 800x800 with 1 Axes>",
      "image/png": "[encoded data removed]"
     },
     "metadata": {},
     "output_type": "display_data"
    }
   ],
   "source": [
    "d = next(iter(test_loader))[0][:16].to(device)\n",
    "\n",
    "classification = torch.argmax(model(d), 1)\n",
    "\n",
    "for c in classification:\n",
    "    print(classes[c], end=\" \")\n",
    "\n",
    "step = 4\n",
    "plt.figure(figsize=(8, 8))\n",
    "plt.axis(\"off\")\n",
    "plt.imshow(\n",
    "    (\n",
    "        vutils.make_grid(d, nrow=4, padding=1, normalize=True)\n",
    "        .permute(1, 2, 0)\n",
    "        .detach()\n",
    "        .cpu()\n",
    "        .numpy()\n",
    "    )\n",
    ")"
   ],
   "metadata": {
    "collapsed": false,
    "ExecuteTime": {
     "end_time": "2023-11-30T10:34:51.009333700Z",
     "start_time": "2023-11-30T10:34:50.883331200Z"
    }
   },
   "id": "6fd2ac6a5ab13d3"
  },
  {
   "cell_type": "code",
   "execution_count": 22,
   "outputs": [],
   "source": [],
   "metadata": {
    "collapsed": false,
    "ExecuteTime": {
     "end_time": "2023-11-30T10:34:51.025332200Z",
     "start_time": "2023-11-30T10:34:50.996332100Z"
    }
   },
   "id": "ee75a18f87960a2d"
  }
 ],
 "metadata": {
  "kernelspec": {
   "display_name": "Python 3",
   "language": "python",
   "name": "python3"
  },
  "language_info": {
   "codemirror_mode": {
    "name": "ipython",
    "version": 2
   },
   "file_extension": ".py",
   "mimetype": "text/x-python",
   "name": "python",
   "nbconvert_exporter": "python",
   "pygments_lexer": "ipython2",
   "version": "2.7.6"
  }
 },
 "nbformat": 4,
 "nbformat_minor": 5
}
